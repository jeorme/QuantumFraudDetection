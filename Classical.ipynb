{
 "cells": [
  {
   "cell_type": "markdown",
   "id": "78912d96",
   "metadata": {},
   "source": [
    "# Import librairy"
   ]
  },
  {
   "cell_type": "code",
   "execution_count": null,
   "id": "50f16ada",
   "metadata": {},
   "outputs": [],
   "source": [
    "import time # to measure time\n",
    "\n",
    "import pandas as pd # CPU\n",
    "\n",
    "import xgboost as xgb # model\n",
    "\n",
    "from tqdm import tqdm # to display progress bar\n",
    "\n",
    "# CPU\n",
    "from sklearn.preprocessing import LabelEncoder\n",
    "from sklearn.model_selection import train_test_split\n",
    "from sklearn.decomposition import PCA\n",
    "from sklearn import preprocessing\n",
    "\n",
    "\n",
    "# visualisation\n",
    "import matplotlib.pyplot as plt\n",
    "%matplotlib inline\n",
    "%config InlineBackend.figure_format='retina'\n",
    "\n",
    "# metrics\n",
    "from sklearn.metrics import classification_report\n",
    "from sklearn.metrics import ConfusionMatrixDisplay,confusion_matrix\n",
    "from xgboost import plot_importance, plot_tree\n",
    "from sklearn.utils import resample\n",
    "\n",
    "#qiskit\n",
    "import numpy as np\n",
    "import math\n",
    "\n",
    "from sklearn.svm import *\n",
    "from sklearn.cluster import *\n",
    "from sklearn.metrics import *\n",
    "from sklearn.decomposition import *\n",
    "\n",
    "from qiskit import *\n",
    "from qiskit.circuit.library import *\n",
    "from qiskit.utils import *\n",
    "from qiskit_machine_learning.algorithms import *\n",
    "from qiskit_machine_learning.kernels import *\n",
    "from qiskit_machine_learning.datasets import *\n",
    "from qiskit_machine_learning.neural_networks import TwoLayerQNN, CircuitQNN\n",
    "from qiskit.algorithms.optimizers import COBYLA, L_BFGS_B\n",
    "import timeit\n",
    "\n",
    "# defining some metrics and the data set\n",
    "seed = 1234"
   ]
  },
  {
   "cell_type": "markdown",
   "id": "0635471e",
   "metadata": {},
   "source": [
    "# Load data"
   ]
  },
  {
   "cell_type": "code",
   "execution_count": null,
   "id": "47986c05",
   "metadata": {},
   "outputs": [],
   "source": [
    "%%time\n",
    "\n",
    "# CPU\n",
    "train_transaction = pd.read_csv(\"C://Users/jerom/PycharmProjects/fraudData/file/train_transaction.csv\")\n",
    "train_identity = pd.read_csv(\"C://Users/jerom/PycharmProjects/fraudData/file/train_identity.csv\")\n",
    "#test_transaction = pd.read_csv(\"C://Users/jerom/PycharmProjects/fraudData/file/test_transaction.csv\")\n",
    "#test_identity = pd.read_csv(\"C://Users/jerom/PycharmProjects/fraudData/file/test_identity.csv\")\n",
    "train= pd.merge(train_transaction, train_identity, on='TransactionID', how='left')"
   ]
  },
  {
   "cell_type": "code",
   "execution_count": null,
   "id": "3f5464f9",
   "metadata": {},
   "outputs": [],
   "source": [
    "print(f'Training dataset has {train.shape[0]} observations and {train.shape[1]} features.')\n",
    "#print(f'Test dataset has {test.shape[0]} observations and {test.shape[1]} features.')"
   ]
  },
  {
   "cell_type": "code",
   "execution_count": null,
   "id": "ec6c2faf",
   "metadata": {},
   "outputs": [],
   "source": [
    "Y_train = train[\"isFraud\"]\n",
    "X_train = train.drop([\"isFraud\",\"TransactionID\", \"TransactionDT\"], axis=1)\n",
    "#Y_test = test[\"isFraud\"]\n",
    "#X_test = test.drop([\"TransactionID\", \"TransactionDT\",\"isFraud\"], axis=1)"
   ]
  },
  {
   "cell_type": "code",
   "execution_count": null,
   "id": "a9ad2744",
   "metadata": {},
   "outputs": [],
   "source": [
    "# proporation of missing values\n",
    "missPropor = [(X_train[col].isnull().sum()) / (X_train.shape[0]) for col in X_train.columns]\n",
    "plt.hist(missPropor, bins=30)\n",
    "plt.ylabel(\"Frequency\")\n",
    "plt.xlabel(\"Proportion of missing values\")\n",
    "plt.show()"
   ]
  },
  {
   "cell_type": "code",
   "execution_count": null,
   "id": "dab025be",
   "metadata": {},
   "outputs": [],
   "source": [
    "many_null_cols = [X_train.columns[i] for i in range(X_train.shape[1]) if missPropor[i] > 0.7]"
   ]
  },
  {
   "cell_type": "code",
   "execution_count": null,
   "id": "8e50a629",
   "metadata": {},
   "outputs": [],
   "source": [
    "# delete features with high proporation of missing values\n",
    "X_train = X_train.drop(many_null_cols, axis=1)\n",
    "\n",
    "print(f\"After deleting features with high proporation of missing values, there are {X_train.shape[1]} features.\")\n"
   ]
  },
  {
   "cell_type": "code",
   "execution_count": null,
   "id": "9cbb06d4",
   "metadata": {},
   "outputs": [],
   "source": [
    "# fill missing values in categorical variables with their mode.\n",
    "# fill missing values in numerical variables with their mean.\n",
    "for i in range(X_train.shape[1]):\n",
    "    if missPropor[i] > 0:\n",
    "        if X_train.iloc[:, i].dtype == \"object\":\n",
    "            X_train.iloc[:, i] = X_train.iloc[:, i].fillna(X_train.iloc[:, i].mode()[0])\n",
    "        elif X_train.iloc[:, i].dtype in ['int64', 'float64']:\n",
    "            X_train.iloc[:, i] = X_train.iloc[:, i].fillna(X_train.iloc[:, i].mean())"
   ]
  },
  {
   "cell_type": "code",
   "execution_count": null,
   "id": "b636af4b",
   "metadata": {},
   "outputs": [],
   "source": [
    "# proporation of missing values\n",
    "missPropor = [(X_train[col].isnull().sum()) / (X_train.shape[0]) for col in X_train.columns]\n",
    "plt.hist(missPropor, bins=30)\n",
    "plt.ylabel(\"Frequency\")\n",
    "plt.xlabel(\"Proportion of missing values\")\n",
    "plt.show()"
   ]
  },
  {
   "cell_type": "code",
   "execution_count": null,
   "id": "8a5e6740",
   "metadata": {},
   "outputs": [],
   "source": [
    "X_train.isna().sum().sum()"
   ]
  },
  {
   "cell_type": "markdown",
   "id": "ea75c987",
   "metadata": {},
   "source": [
    "# Data preparation"
   ]
  },
  {
   "cell_type": "code",
   "execution_count": null,
   "id": "396d75e3",
   "metadata": {},
   "outputs": [],
   "source": [
    "# numeric encoding (label encoding)\n",
    "def encoding(train):\n",
    "    X_le = train.copy()\n",
    "    #X_te = test.copy()\n",
    "    for f in train.columns:\n",
    "        if X_le[f].dtype == 'object': \n",
    "            le = preprocessing.LabelEncoder()\n",
    "            le.fit(list(X_le[f].values))\n",
    "            X_le[f] = le.transform(list(X_le[f].values))\n",
    "            #te = preprocessing.LabelEncoder()\n",
    "            #te.fit(list(X_te[f].values))\n",
    "            #X_te[f] = te.transform(list(X_te[f].values))\n",
    "    return X_le\n",
    "\n",
    "def normalize(X_le):\n",
    "    X_le_pca = X_le.copy()\n",
    "    #X_te_pca = X_te.copy()\n",
    "    # standardize the data\n",
    "    scaler = preprocessing.StandardScaler()\n",
    "    scaler.fit(X_le_pca)\n",
    "    X_le_pca = scaler.transform(X_le_pca)\n",
    "    #scaler.fit(X_te_pca)\n",
    "    #X_te_pca = scaler.transform(X_te_pca)\n",
    "    return X_le_pca\n",
    "\n",
    "def encode_normalize(train):\n",
    "    print(\"start encoding\")\n",
    "    X_le = encoding(train)\n",
    "    print(\"start normalization\")\n",
    "    return normalize(X_le)\n",
    "\n",
    "def applyPCA(nb_components,train):\n",
    "    pca = PCA(n_components=nb_components)\n",
    "    pca.fit(train)\n",
    "    X_le_pca = pca.transform(train)\n",
    "    print(f\"the explained variance for the train test is {pca.explained_variance_}, which is {np.sum(pca.explained_variance_)}%\")\n",
    "    X_le_pca = pd.DataFrame(X_le_pca)\n",
    "    #pcat = PCA(n_components=nb_components)\n",
    "    #pcat.fit(test)\n",
    "    #print(f\"the explained variance for the test is {pcat.explained_variance_}, which is {np.sum(pcat.explained_variance_)}%\")\n",
    "    #X_te_pca = pcat.transform(test)\n",
    "    #X_te_pca = pd.DataFrame(X_te_pca)\n",
    "    \n",
    "    return X_le_pca"
   ]
  },
  {
   "cell_type": "code",
   "execution_count": null,
   "id": "124d8142",
   "metadata": {},
   "outputs": [],
   "source": [
    "X_le_pca = encode_normalize(X_train)\n",
    "X_le_pca = applyPCA(3,X_le_pca)"
   ]
  },
  {
   "cell_type": "markdown",
   "id": "15c9c1d9",
   "metadata": {},
   "source": [
    "# Balanced data set"
   ]
  },
  {
   "cell_type": "code",
   "execution_count": 333,
   "id": "771ed0f0",
   "metadata": {},
   "outputs": [
    {
     "name": "stdout",
     "output_type": "stream",
     "text": [
      "fraud data :  3.4990009144173126 % not fraud :  96.50099908558268 %\n",
      "nb fraud data :  20663\n",
      "(20663, 5)\n"
     ]
    }
   ],
   "source": [
    "data = pd.concat([X_le_pca,Y_train],axis=1)\n",
    "fraud = data[data[\"isFraud\"] == 1]\n",
    "notFraud  = data[data[\"isFraud\"] == 0]\n",
    "print(\"fraud data : \",fraud.shape[0]/data.shape[0]*100,\"% not fraud : \", notFraud.shape[0]/data.shape[0]*100,\"%\")\n",
    "print(\"nb fraud data : \", fraud.shape[0])\n",
    "\n",
    "notFraud_downsample = resample(notFraud,\n",
    "             replace=True,\n",
    "             n_samples=fraud.shape[0],\n",
    "             random_state=42)\n",
    "\n",
    "print(notFraud_downsample.shape)"
   ]
  },
  {
   "cell_type": "code",
   "execution_count": 334,
   "id": "0867c526",
   "metadata": {},
   "outputs": [
    {
     "data": {
      "text/html": [
       "<div>\n",
       "<style scoped>\n",
       "    .dataframe tbody tr th:only-of-type {\n",
       "        vertical-align: middle;\n",
       "    }\n",
       "\n",
       "    .dataframe tbody tr th {\n",
       "        vertical-align: top;\n",
       "    }\n",
       "\n",
       "    .dataframe thead th {\n",
       "        text-align: right;\n",
       "    }\n",
       "</style>\n",
       "<table border=\"1\" class=\"dataframe\">\n",
       "  <thead>\n",
       "    <tr style=\"text-align: right;\">\n",
       "      <th></th>\n",
       "      <th>0</th>\n",
       "      <th>1</th>\n",
       "      <th>2</th>\n",
       "      <th>3</th>\n",
       "    </tr>\n",
       "  </thead>\n",
       "  <tbody>\n",
       "    <tr>\n",
       "      <th>203</th>\n",
       "      <td>-2.043669</td>\n",
       "      <td>-0.285042</td>\n",
       "      <td>-0.772318</td>\n",
       "      <td>0.562370</td>\n",
       "    </tr>\n",
       "    <tr>\n",
       "      <th>240</th>\n",
       "      <td>11.368686</td>\n",
       "      <td>-3.077040</td>\n",
       "      <td>-0.838923</td>\n",
       "      <td>-1.663228</td>\n",
       "    </tr>\n",
       "    <tr>\n",
       "      <th>243</th>\n",
       "      <td>15.860352</td>\n",
       "      <td>-3.436367</td>\n",
       "      <td>-0.778790</td>\n",
       "      <td>0.342134</td>\n",
       "    </tr>\n",
       "    <tr>\n",
       "      <th>245</th>\n",
       "      <td>16.474712</td>\n",
       "      <td>-3.058225</td>\n",
       "      <td>-0.797971</td>\n",
       "      <td>2.554752</td>\n",
       "    </tr>\n",
       "    <tr>\n",
       "      <th>288</th>\n",
       "      <td>15.188871</td>\n",
       "      <td>-3.822980</td>\n",
       "      <td>-0.747090</td>\n",
       "      <td>-1.921169</td>\n",
       "    </tr>\n",
       "    <tr>\n",
       "      <th>...</th>\n",
       "      <td>...</td>\n",
       "      <td>...</td>\n",
       "      <td>...</td>\n",
       "      <td>...</td>\n",
       "    </tr>\n",
       "    <tr>\n",
       "      <th>116443</th>\n",
       "      <td>-3.803594</td>\n",
       "      <td>-0.048241</td>\n",
       "      <td>0.771029</td>\n",
       "      <td>-2.062260</td>\n",
       "    </tr>\n",
       "    <tr>\n",
       "      <th>290087</th>\n",
       "      <td>15.164561</td>\n",
       "      <td>-3.842561</td>\n",
       "      <td>-0.731209</td>\n",
       "      <td>-1.927920</td>\n",
       "    </tr>\n",
       "    <tr>\n",
       "      <th>23940</th>\n",
       "      <td>-2.094310</td>\n",
       "      <td>-0.247802</td>\n",
       "      <td>-0.675948</td>\n",
       "      <td>0.139660</td>\n",
       "    </tr>\n",
       "    <tr>\n",
       "      <th>491767</th>\n",
       "      <td>-2.464356</td>\n",
       "      <td>-0.078392</td>\n",
       "      <td>-0.451073</td>\n",
       "      <td>-0.322945</td>\n",
       "    </tr>\n",
       "    <tr>\n",
       "      <th>257010</th>\n",
       "      <td>-1.252339</td>\n",
       "      <td>-0.455721</td>\n",
       "      <td>-0.709686</td>\n",
       "      <td>-0.054760</td>\n",
       "    </tr>\n",
       "  </tbody>\n",
       "</table>\n",
       "<p>41326 rows × 4 columns</p>\n",
       "</div>"
      ],
      "text/plain": [
       "                0         1         2         3\n",
       "203     -2.043669 -0.285042 -0.772318  0.562370\n",
       "240     11.368686 -3.077040 -0.838923 -1.663228\n",
       "243     15.860352 -3.436367 -0.778790  0.342134\n",
       "245     16.474712 -3.058225 -0.797971  2.554752\n",
       "288     15.188871 -3.822980 -0.747090 -1.921169\n",
       "...           ...       ...       ...       ...\n",
       "116443  -3.803594 -0.048241  0.771029 -2.062260\n",
       "290087  15.164561 -3.842561 -0.731209 -1.927920\n",
       "23940   -2.094310 -0.247802 -0.675948  0.139660\n",
       "491767  -2.464356 -0.078392 -0.451073 -0.322945\n",
       "257010  -1.252339 -0.455721 -0.709686 -0.054760\n",
       "\n",
       "[41326 rows x 4 columns]"
      ]
     },
     "execution_count": 334,
     "metadata": {},
     "output_type": "execute_result"
    }
   ],
   "source": [
    "train_balanced = pd.concat([fraud,notFraud_downsample])\n",
    "Y_train_balanced = train_balanced[\"isFraud\"]\n",
    "train_balanced.drop([\"isFraud\"],axis=1)"
   ]
  },
  {
   "cell_type": "code",
   "execution_count": 335,
   "id": "ec61dabf",
   "metadata": {},
   "outputs": [
    {
     "name": "stdout",
     "output_type": "stream",
     "text": [
      "1.0 : 1 ratio of positive:negative\n"
     ]
    }
   ],
   "source": [
    "# get ratio of positive cases (1) to negative cases (0)\n",
    "ratio_of_positive = Y_train_balanced.sum()/(len(Y_train_balanced)-Y_train_balanced.sum())\n",
    "print(round(ratio_of_positive,3), \": 1 ratio of positive:negative\")"
   ]
  },
  {
   "cell_type": "markdown",
   "id": "b12e88e4",
   "metadata": {},
   "source": [
    "# reduce size"
   ]
  },
  {
   "cell_type": "code",
   "execution_count": 336,
   "id": "83b725f4",
   "metadata": {},
   "outputs": [],
   "source": [
    "def reduce(data,n):\n",
    "    #we want to have balanced data with has much has fraud has not fraud\n",
    "    sample = int(n/2)\n",
    "    print(\"copy data\")\n",
    "    train = data\n",
    "    print(\"group data\")\n",
    "    train = train.groupby(\"isFraud\",group_keys=False).apply(lambda x : x.sample(sample))\n",
    "    print(\"split data\")\n",
    "    Y_reduced = train[\"isFraud\"]\n",
    "    X_reduced = train.drop(\"isFraud\",axis=1)\n",
    "    return X_reduced,Y_reduced"
   ]
  },
  {
   "cell_type": "code",
   "execution_count": 339,
   "id": "212d7a92",
   "metadata": {},
   "outputs": [
    {
     "name": "stdout",
     "output_type": "stream",
     "text": [
      "copy data\n",
      "group data\n",
      "split data\n"
     ]
    }
   ],
   "source": [
    "train_reduced,Y_train_reduced = reduce(train_balanced,300)"
   ]
  },
  {
   "cell_type": "code",
   "execution_count": 350,
   "id": "0c7b703d",
   "metadata": {},
   "outputs": [
    {
     "name": "stdout",
     "output_type": "stream",
     "text": [
      "1.0 : 1 ratio of positive:negative\n"
     ]
    }
   ],
   "source": [
    "# get ratio of positive cases (1) to negative cases (0)\n",
    "ratio_of_positive = Y_train_reduced.sum()/(len(Y_train_reduced)-Y_train_reduced.sum())\n",
    "print(round(ratio_of_positive,3), \": 1 ratio of positive:negative\")"
   ]
  },
  {
   "cell_type": "code",
   "execution_count": 351,
   "id": "cf2b6b29",
   "metadata": {},
   "outputs": [
    {
     "data": {
      "text/plain": [
       "(300, 4)"
      ]
     },
     "execution_count": 351,
     "metadata": {},
     "output_type": "execute_result"
    }
   ],
   "source": [
    "train_reduced.shape"
   ]
  },
  {
   "cell_type": "code",
   "execution_count": 352,
   "id": "efe44a41",
   "metadata": {},
   "outputs": [
    {
     "data": {
      "text/plain": [
       "(300,)"
      ]
     },
     "execution_count": 352,
     "metadata": {},
     "output_type": "execute_result"
    }
   ],
   "source": [
    "Y_train_reduced.shape"
   ]
  },
  {
   "cell_type": "markdown",
   "id": "1f8504f8",
   "metadata": {},
   "source": [
    "# split train test"
   ]
  },
  {
   "cell_type": "code",
   "execution_count": 371,
   "id": "8929b5c0",
   "metadata": {},
   "outputs": [],
   "source": [
    "data = pd.concat([train_reduced,Y_train_reduced],axis=1)\n",
    "train, test = train_test_split(data, test_size=0.2, random_state=42, stratify=data[\"isFraud\"])\n"
   ]
  },
  {
   "cell_type": "code",
   "execution_count": 372,
   "id": "dfadd78e",
   "metadata": {},
   "outputs": [
    {
     "data": {
      "text/plain": [
       "(240, 5)"
      ]
     },
     "execution_count": 372,
     "metadata": {},
     "output_type": "execute_result"
    }
   ],
   "source": [
    "train.shape"
   ]
  },
  {
   "cell_type": "code",
   "execution_count": 373,
   "id": "77a178ea",
   "metadata": {},
   "outputs": [],
   "source": [
    "Y_train = train[\"isFraud\"]\n",
    "X_train=train.drop([\"isFraud\"],axis=1)\n",
    "Y_test = test[\"isFraud\"]\n",
    "X_test=test.drop([\"isFraud\"],axis=1)"
   ]
  },
  {
   "cell_type": "code",
   "execution_count": 374,
   "id": "5bb7d779",
   "metadata": {},
   "outputs": [
    {
     "data": {
      "text/plain": [
       "(240, 4)"
      ]
     },
     "execution_count": 374,
     "metadata": {},
     "output_type": "execute_result"
    }
   ],
   "source": [
    "X_train.shape"
   ]
  },
  {
   "cell_type": "code",
   "execution_count": 375,
   "id": "f6664cf3",
   "metadata": {},
   "outputs": [
    {
     "name": "stdout",
     "output_type": "stream",
     "text": [
      "train data :  1.0 : 1 ratio of positive:negative\n",
      "test data :  1.0 : 1 ratio of positive:negative\n"
     ]
    }
   ],
   "source": [
    "# get ratio of positive cases (1) to negative cases (0)\n",
    "ratio_of_positive = Y_train.sum()/(len(Y_train)-Y_train.sum())\n",
    "print(\"train data : \",round(ratio_of_positive,3), \": 1 ratio of positive:negative\")\n",
    "ratio_of_positive = Y_test.sum()/(len(Y_test)-Y_test.sum())\n",
    "print(\"test data : \",round(ratio_of_positive,3), \": 1 ratio of positive:negative\")"
   ]
  },
  {
   "cell_type": "code",
   "execution_count": 376,
   "id": "db900584",
   "metadata": {},
   "outputs": [
    {
     "data": {
      "text/plain": [
       "(30,)"
      ]
     },
     "execution_count": 376,
     "metadata": {},
     "output_type": "execute_result"
    }
   ],
   "source": [
    "Y_test[Y_test==1].shape"
   ]
  },
  {
   "cell_type": "markdown",
   "id": "e2a85adc",
   "metadata": {},
   "source": [
    "# Train model"
   ]
  },
  {
   "cell_type": "code",
   "execution_count": 377,
   "id": "8546da52",
   "metadata": {},
   "outputs": [],
   "source": [
    "model = xgb.XGBClassifier(\n",
    "    n_estimators=100,\n",
    "    max_depth=10,\n",
    "    learning_rate=0.1,\n",
    "    tree_method=\"hist\",\n",
    "    # scale up the weight of positive samples\n",
    "    scale_pos_weight=1,\n",
    "    use_label_encoder=False,\n",
    "    eval_metric=\"auc\"\n",
    ")\n",
    "\n",
    "#xgbc = xgb.XGBClassifier(n_jobs=4, max_depth=10, min_samples_leaf=0.001, \n",
    "                         #learning_rate=0.1, n_estimators=100, eval_metric=\"auc\")\n",
    "#xgbc.fit(Xtr, np.ravel(Ytr))\n",
    "#submission[\"isFraud\"] = xgbc.predict_proba(Xte)[:, 1]"
   ]
  },
  {
   "cell_type": "code",
   "execution_count": 378,
   "id": "f7a5c14a",
   "metadata": {},
   "outputs": [
    {
     "name": "stdout",
     "output_type": "stream",
     "text": [
      "Training takes: 0 seconds\n"
     ]
    }
   ],
   "source": [
    "# CPU\n",
    "train_start_time = time.time()\n",
    "\n",
    "model.fit(X_train, np.ravel(Y_train),verbose=False)\n",
    "\n",
    "train_end_time = time.time()\n",
    "\n",
    "print(\"Training takes:\", int(train_end_time-train_start_time), \"seconds\")"
   ]
  },
  {
   "cell_type": "markdown",
   "id": "cf8c971c",
   "metadata": {},
   "source": [
    "# Prediction"
   ]
  },
  {
   "cell_type": "code",
   "execution_count": 379,
   "id": "86c9fcf4",
   "metadata": {},
   "outputs": [
    {
     "name": "stdout",
     "output_type": "stream",
     "text": [
      "CPU times: total: 0 ns\n",
      "Wall time: 9.04 ms\n"
     ]
    }
   ],
   "source": [
    "%%time\n",
    "\n",
    "# CPU\n",
    "preds = model.predict(X_train)"
   ]
  },
  {
   "cell_type": "code",
   "execution_count": 380,
   "id": "98539e13",
   "metadata": {},
   "outputs": [
    {
     "data": {
      "image/png": "[encoded data removed]",
      "text/plain": [
       "<Figure size 432x288 with 2 Axes>"
      ]
     },
     "metadata": {
      "image/png": {
       "height": 266,
       "width": 351
      },
      "needs_background": "light"
     },
     "output_type": "display_data"
    }
   ],
   "source": [
    "# CPU\n",
    "# confusion matrix\n",
    "cm = confusion_matrix(Y_train, preds, labels=model.classes_,normalize='true')\n",
    "disp = ConfusionMatrixDisplay(confusion_matrix=cm, display_labels=[\"not_fraud\", \"fraud\"])\n",
    "disp.plot()\n",
    "plt.show()"
   ]
  },
  {
   "cell_type": "code",
   "execution_count": 381,
   "id": "849cebc6",
   "metadata": {},
   "outputs": [
    {
     "data": {
      "image/png": "[encoded data removed]",
      "text/plain": [
       "<Figure size 432x288 with 1 Axes>"
      ]
     },
     "metadata": {
      "image/png": {
       "height": 277,
       "width": 376
      },
      "needs_background": "light"
     },
     "output_type": "display_data"
    }
   ],
   "source": [
    "plot_importance(model, max_num_features=10)\n",
    "plt.show()"
   ]
  },
  {
   "cell_type": "code",
   "execution_count": 382,
   "id": "f2585068",
   "metadata": {},
   "outputs": [
    {
     "name": "stdout",
     "output_type": "stream",
     "text": [
      "Accuracy of Model on training set:: 1.0\n"
     ]
    }
   ],
   "source": [
    "print(\"Accuracy of Model on training set::\",model.score(X_train,Y_train))"
   ]
  },
  {
   "cell_type": "markdown",
   "id": "7aa5855c",
   "metadata": {},
   "source": [
    "# Result on test data"
   ]
  },
  {
   "cell_type": "code",
   "execution_count": 383,
   "id": "4fafd589",
   "metadata": {},
   "outputs": [],
   "source": [
    "preds = model.predict(X_test)"
   ]
  },
  {
   "cell_type": "code",
   "execution_count": 384,
   "id": "3599a257",
   "metadata": {},
   "outputs": [
    {
     "data": {
      "image/png": "[encoded data removed]",
      "text/plain": [
       "<Figure size 432x288 with 2 Axes>"
      ]
     },
     "metadata": {
      "image/png": {
       "height": 262,
       "width": 357
      },
      "needs_background": "light"
     },
     "output_type": "display_data"
    }
   ],
   "source": [
    "# CPU\n",
    "# confusion matrix\n",
    "cm = confusion_matrix(Y_test, preds, labels=model.classes_,normalize='true')\n",
    "disp = ConfusionMatrixDisplay(confusion_matrix=cm, display_labels=[\"not_fraud\", \"fraud\"])\n",
    "disp.plot()\n",
    "plt.show()"
   ]
  },
  {
   "cell_type": "code",
   "execution_count": 385,
   "id": "841aa002",
   "metadata": {},
   "outputs": [
    {
     "name": "stdout",
     "output_type": "stream",
     "text": [
      "Accuracy of Model on training set:: 0.6333333333333333\n"
     ]
    }
   ],
   "source": [
    "print(\"Accuracy of Model on training set::\",model.score(X_test,Y_test))"
   ]
  },
  {
   "cell_type": "markdown",
   "id": "e2344567",
   "metadata": {},
   "source": [
    "# Quantum approach"
   ]
  },
  {
   "cell_type": "code",
   "execution_count": 386,
   "id": "9aca6991",
   "metadata": {},
   "outputs": [],
   "source": [
    "def QSVM(dimension, reps,X_reduced, Y_reduced, X_test,Y_test, precomputedKernel=False,seed=seed,shots=1024):\n",
    "    # defining the backend\n",
    "    print(\"define backend\")\n",
    "    start = time.time()\n",
    "    ad_hoc_backend = QuantumInstance(BasicAer.get_backend('qasm_simulator'), shots=shots,\n",
    "                                seed_simulator=seed, seed_transpiler=seed)\n",
    "    end = time.time()\n",
    "    print(\"time : \",abs(end-start))\n",
    "    \n",
    "    print(\"define feature map\")\n",
    "    start = time.time()\n",
    "    # in this excercice we will only test for ZZfeatureMap, the input will be the number of reps\n",
    "    ad_hoc_feature_map = ZZFeatureMap(feature_dimension=dimension,\n",
    "                                 reps=reps, entanglement='full')\n",
    "    end = time.time()\n",
    "    print(\"time : \",abs(end-start))\n",
    "    \n",
    "    print(\"define kernel map\")\n",
    "    start = time.time()\n",
    "    # defining the kernel\n",
    "    adhoc_kernel = QuantumKernel(feature_map=ad_hoc_feature_map, quantum_instance=ad_hoc_backend)\n",
    "    end = time.time()\n",
    "    print(\"time : \",abs(end-start))\n",
    "    \n",
    "    \n",
    "    if precomputedKernel:\n",
    "        print(\"evaluate on train\")\n",
    "        start = time.time()\n",
    "        adhoc_matrix_train= adhoc_kernel.evaluate(x_vec=X_reduced)\n",
    "        end = time.time()\n",
    "        print(\"time : \",abs(end-start))\n",
    "        \n",
    "        print(\"build kernel\")\n",
    "        start = time.time()\n",
    "        engine =QSVC(kernel=\"precomputed\")\n",
    "        end = timeit.timeit()\n",
    "        print(\"time : \",abs(end-start))\n",
    "        \n",
    "        print(\"calibrate\")\n",
    "        start = time.time()\n",
    "        engine.fit(adhoc_matrix_train, Y_reduced)\n",
    "        end = time.time()\n",
    "        print(\"time : \",abs(end-start))\n",
    "        \n",
    "        print(\"score\")\n",
    "        start = time.time()\n",
    "        score_train=  engine.score(adhoc_matrix_train,Y_reduced)\n",
    "        end = time.time()\n",
    "        print(\"time : \",abs(end-start))\n",
    "    else:\n",
    "        print(\"build engine\")\n",
    "        start = time.time()\n",
    "        engine = QSVC(quantum_kernel=adhoc_kernel)\n",
    "        end = time.time()\n",
    "        print(\"time : \",end-start)\n",
    "        \n",
    "        # fitting the data\n",
    "        print(\"calibrate\")\n",
    "        start = time.time()\n",
    "        engine.fit(X_reduced, Y_reduced)\n",
    "        end = time.time()\n",
    "        print(\"time : \",end-start)\n",
    "        \n",
    "        print(\"score\")\n",
    "        start = time.time()\n",
    "        score_train = engine.score(X_reduced, Y_reduced)\n",
    "        end = time.time()\n",
    "        print(\"time : \",end-start)\n",
    "        \n",
    "    print(\"score test\")\n",
    "    start = time.time()\n",
    "    score_test = engine.score(X_test,Y_test)\n",
    "    end = time.time()\n",
    "    print(\"time : \",end-start)\n",
    "    print(\"score train: \",score_train)\n",
    "    print(\"score test: \",score_test)\n",
    "    # looking at the score of the trainning data\n",
    "    return engine"
   ]
  },
  {
   "cell_type": "code",
   "execution_count": null,
   "id": "4678467a",
   "metadata": {},
   "outputs": [
    {
     "name": "stdout",
     "output_type": "stream",
     "text": [
      "define backend\n",
      "time :  0.02666306495666504\n",
      "define feature map\n",
      "time :  0.04190802574157715\n",
      "define kernel map\n",
      "time :  0.0047299861907958984\n",
      "build engine\n",
      "time :  0.01026773452758789\n",
      "calibrate\n"
     ]
    }
   ],
   "source": [
    "engine= QSVM(dimension=3,reps=1,X_reduced=X_train, Y_reduced=Y_train, X_test=X_test,Y_test=Y_test)"
   ]
  },
  {
   "cell_type": "code",
   "execution_count": 248,
   "id": "a15be6c3",
   "metadata": {},
   "outputs": [],
   "source": [
    "X_train.to_csv(\"train_reduced.csv\",index=False)\n",
    "Y_train.to_csv(\"Y_train_reduced.csv\",index=False)\n",
    "X_test.to_csv(\"test_reduced.csv\",index=False)\n",
    "Y_test.to_csv(\"Y_test_reduced.csv\",index=False)"
   ]
  },
  {
   "cell_type": "code",
   "execution_count": 84,
   "id": "b4230552",
   "metadata": {},
   "outputs": [
    {
     "data": {
      "text/plain": [
       "0.7166666666666667"
      ]
     },
     "execution_count": 84,
     "metadata": {},
     "output_type": "execute_result"
    }
   ],
   "source": [
    "score_train"
   ]
  },
  {
   "cell_type": "code",
   "execution_count": null,
   "id": "d0726534",
   "metadata": {},
   "outputs": [],
   "source": [
    "# CPU\n",
    "# confusion matrix\n",
    "cm = confusion_matrix(Y_test, preds, labels=model.classes_,normalize='true')\n",
    "disp = ConfusionMatrixDisplay(confusion_matrix=cm, display_labels=[\"not_fraud\", \"fraud\"])\n",
    "disp.plot()\n",
    "plt.show()"
   ]
  },
  {
   "cell_type": "code",
   "execution_count": 397,
   "id": "c2cceef7",
   "metadata": {},
   "outputs": [
    {
     "name": "stdout",
     "output_type": "stream",
     "text": [
      "define backend\n",
      "define feature map\n",
      "define kernel map\n"
     ]
    }
   ],
   "source": [
    "print(\"define backend\")\n",
    "ad_hoc_backend = QuantumInstance(BasicAer.get_backend('qasm_simulator'), shots=1024,\n",
    "                                seed_simulator=seed, seed_transpiler=seed)\n",
    "print(\"define feature map\")\n",
    "# in this excercice we will only test for ZZfeatureMap, the input will be the number of reps\n",
    "ad_hoc_feature_map = ZZFeatureMap(feature_dimension=2,\n",
    "                                 reps=1, entanglement='full')\n",
    "print(\"define kernel map\")\n",
    "# defining the kernel\n",
    "adhoc_kernel = QuantumKernel(feature_map=ad_hoc_feature_map, quantum_instance=ad_hoc_backend)"
   ]
  },
  {
   "cell_type": "code",
   "execution_count": 399,
   "id": "12bda2ce",
   "metadata": {},
   "outputs": [
    {
     "name": "stdout",
     "output_type": "stream",
     "text": [
      "process data\n",
      "start encoding\n",
      "start normalization\n",
      "the explained variance for the train test is [36.48580001 30.17117549], which is 66.65697550460558%\n",
      "the explained variance for the test is [36.41338078 13.18244569], which is 49.59582646812329%\n",
      "copy data\n",
      "group data\n",
      "split data\n"
     ]
    }
   ],
   "source": [
    "print(\"process data\")\n",
    "X_le_pca,X_te_pca = encode_normalize(X_train,X_test)\n",
    "X_le_pca,X_te_pca = applyPCA(2,X_le_pca,X_te_pca)\n",
    "X_reduced, Y_reduced = reduce(X_le_pca,Y_train,25)"
   ]
  },
  {
   "cell_type": "code",
   "execution_count": 400,
   "id": "f1e585ee",
   "metadata": {},
   "outputs": [
    {
     "name": "stdout",
     "output_type": "stream",
     "text": [
      "calibrate\n",
      "score\n"
     ]
    }
   ],
   "source": [
    "engine = QSVC(quantum_kernel=adhoc_kernel)\n",
    "# fitting the data\n",
    "print(\"calibrate\")\n",
    "engine.fit(X_reduced, Y_reduced)\n",
    "print(\"score\")\n",
    "score_train = engine.score(X_reduced, Y_reduced)"
   ]
  },
  {
   "cell_type": "code",
   "execution_count": 406,
   "id": "fb965335",
   "metadata": {},
   "outputs": [
    {
     "name": "stdout",
     "output_type": "stream",
     "text": [
      "score train 0.78\n"
     ]
    },
    {
     "ename": "KeyboardInterrupt",
     "evalue": "",
     "output_type": "error",
     "traceback": [
      "\u001b[1;31m---------------------------------------------------------------------------\u001b[0m",
      "\u001b[1;31mKeyboardInterrupt\u001b[0m                         Traceback (most recent call last)",
      "Input \u001b[1;32mIn [406]\u001b[0m, in \u001b[0;36m<cell line: 2>\u001b[1;34m()\u001b[0m\n\u001b[0;32m      1\u001b[0m \u001b[38;5;28mprint\u001b[39m(\u001b[38;5;124mf\u001b[39m\u001b[38;5;124m\"\u001b[39m\u001b[38;5;124mscore train\u001b[39m\u001b[38;5;124m\"\u001b[39m,score_train)\n\u001b[1;32m----> 2\u001b[0m prediction \u001b[38;5;241m=\u001b[39m\u001b[43mengine\u001b[49m\u001b[38;5;241;43m.\u001b[39;49m\u001b[43mpredict\u001b[49m\u001b[43m(\u001b[49m\u001b[43mX_te_pca\u001b[49m\u001b[43m)\u001b[49m\n",
      "File \u001b[1;32m~\\AppData\\Roaming\\Python\\Python39\\site-packages\\sklearn\\svm\\_base.py:784\u001b[0m, in \u001b[0;36mBaseSVC.predict\u001b[1;34m(self, X)\u001b[0m\n\u001b[0;32m    782\u001b[0m     y \u001b[38;5;241m=\u001b[39m np\u001b[38;5;241m.\u001b[39margmax(\u001b[38;5;28mself\u001b[39m\u001b[38;5;241m.\u001b[39mdecision_function(X), axis\u001b[38;5;241m=\u001b[39m\u001b[38;5;241m1\u001b[39m)\n\u001b[0;32m    783\u001b[0m \u001b[38;5;28;01melse\u001b[39;00m:\n\u001b[1;32m--> 784\u001b[0m     y \u001b[38;5;241m=\u001b[39m \u001b[38;5;28;43msuper\u001b[39;49m\u001b[43m(\u001b[49m\u001b[43m)\u001b[49m\u001b[38;5;241;43m.\u001b[39;49m\u001b[43mpredict\u001b[49m\u001b[43m(\u001b[49m\u001b[43mX\u001b[49m\u001b[43m)\u001b[49m\n\u001b[0;32m    785\u001b[0m \u001b[38;5;28;01mreturn\u001b[39;00m \u001b[38;5;28mself\u001b[39m\u001b[38;5;241m.\u001b[39mclasses_\u001b[38;5;241m.\u001b[39mtake(np\u001b[38;5;241m.\u001b[39masarray(y, dtype\u001b[38;5;241m=\u001b[39mnp\u001b[38;5;241m.\u001b[39mintp))\n",
      "File \u001b[1;32m~\\AppData\\Roaming\\Python\\Python39\\site-packages\\sklearn\\svm\\_base.py:416\u001b[0m, in \u001b[0;36mBaseLibSVM.predict\u001b[1;34m(self, X)\u001b[0m\n\u001b[0;32m    414\u001b[0m X \u001b[38;5;241m=\u001b[39m \u001b[38;5;28mself\u001b[39m\u001b[38;5;241m.\u001b[39m_validate_for_predict(X)\n\u001b[0;32m    415\u001b[0m predict \u001b[38;5;241m=\u001b[39m \u001b[38;5;28mself\u001b[39m\u001b[38;5;241m.\u001b[39m_sparse_predict \u001b[38;5;28;01mif\u001b[39;00m \u001b[38;5;28mself\u001b[39m\u001b[38;5;241m.\u001b[39m_sparse \u001b[38;5;28;01melse\u001b[39;00m \u001b[38;5;28mself\u001b[39m\u001b[38;5;241m.\u001b[39m_dense_predict\n\u001b[1;32m--> 416\u001b[0m \u001b[38;5;28;01mreturn\u001b[39;00m \u001b[43mpredict\u001b[49m\u001b[43m(\u001b[49m\u001b[43mX\u001b[49m\u001b[43m)\u001b[49m\n",
      "File \u001b[1;32m~\\AppData\\Roaming\\Python\\Python39\\site-packages\\sklearn\\svm\\_base.py:419\u001b[0m, in \u001b[0;36mBaseLibSVM._dense_predict\u001b[1;34m(self, X)\u001b[0m\n\u001b[0;32m    418\u001b[0m \u001b[38;5;28;01mdef\u001b[39;00m \u001b[38;5;21m_dense_predict\u001b[39m(\u001b[38;5;28mself\u001b[39m, X):\n\u001b[1;32m--> 419\u001b[0m     X \u001b[38;5;241m=\u001b[39m \u001b[38;5;28;43mself\u001b[39;49m\u001b[38;5;241;43m.\u001b[39;49m\u001b[43m_compute_kernel\u001b[49m\u001b[43m(\u001b[49m\u001b[43mX\u001b[49m\u001b[43m)\u001b[49m\n\u001b[0;32m    420\u001b[0m     \u001b[38;5;28;01mif\u001b[39;00m X\u001b[38;5;241m.\u001b[39mndim \u001b[38;5;241m==\u001b[39m \u001b[38;5;241m1\u001b[39m:\n\u001b[0;32m    421\u001b[0m         X \u001b[38;5;241m=\u001b[39m check_array(X, order\u001b[38;5;241m=\u001b[39m\u001b[38;5;124m\"\u001b[39m\u001b[38;5;124mC\u001b[39m\u001b[38;5;124m\"\u001b[39m, accept_large_sparse\u001b[38;5;241m=\u001b[39m\u001b[38;5;28;01mFalse\u001b[39;00m)\n",
      "File \u001b[1;32m~\\AppData\\Roaming\\Python\\Python39\\site-packages\\sklearn\\svm\\_base.py:493\u001b[0m, in \u001b[0;36mBaseLibSVM._compute_kernel\u001b[1;34m(self, X)\u001b[0m\n\u001b[0;32m    489\u001b[0m \u001b[38;5;124;03m\"\"\"Return the data transformed by a callable kernel\"\"\"\u001b[39;00m\n\u001b[0;32m    490\u001b[0m \u001b[38;5;28;01mif\u001b[39;00m callable(\u001b[38;5;28mself\u001b[39m\u001b[38;5;241m.\u001b[39mkernel):\n\u001b[0;32m    491\u001b[0m     \u001b[38;5;66;03m# in the case of precomputed kernel given as a function, we\u001b[39;00m\n\u001b[0;32m    492\u001b[0m     \u001b[38;5;66;03m# have to compute explicitly the kernel matrix\u001b[39;00m\n\u001b[1;32m--> 493\u001b[0m     kernel \u001b[38;5;241m=\u001b[39m \u001b[38;5;28;43mself\u001b[39;49m\u001b[38;5;241;43m.\u001b[39;49m\u001b[43mkernel\u001b[49m\u001b[43m(\u001b[49m\u001b[43mX\u001b[49m\u001b[43m,\u001b[49m\u001b[43m \u001b[49m\u001b[38;5;28;43mself\u001b[39;49m\u001b[38;5;241;43m.\u001b[39;49m\u001b[43m__Xfit\u001b[49m\u001b[43m)\u001b[49m\n\u001b[0;32m    494\u001b[0m     \u001b[38;5;28;01mif\u001b[39;00m sp\u001b[38;5;241m.\u001b[39missparse(kernel):\n\u001b[0;32m    495\u001b[0m         kernel \u001b[38;5;241m=\u001b[39m kernel\u001b[38;5;241m.\u001b[39mtoarray()\n",
      "File \u001b[1;32m~\\AppData\\Local\\Programs\\Python\\Python39\\lib\\site-packages\\qiskit_machine_learning\\kernels\\quantum_kernel.py:534\u001b[0m, in \u001b[0;36mQuantumKernel.evaluate\u001b[1;34m(self, x_vec, y_vec)\u001b[0m\n\u001b[0;32m    531\u001b[0m         to_be_computed_data_pair\u001b[38;5;241m.\u001b[39mappend((x_i, y_j))\n\u001b[0;32m    532\u001b[0m         to_be_computed_index\u001b[38;5;241m.\u001b[39mappend((i, j))\n\u001b[1;32m--> 534\u001b[0m circuits \u001b[38;5;241m=\u001b[39m [\n\u001b[0;32m    535\u001b[0m     parameterized_circuit\u001b[38;5;241m.\u001b[39massign_parameters(\n\u001b[0;32m    536\u001b[0m         {feature_map_params_x: x, feature_map_params_y: y}\n\u001b[0;32m    537\u001b[0m     )\n\u001b[0;32m    538\u001b[0m     \u001b[38;5;28;01mfor\u001b[39;00m x, y \u001b[38;5;129;01min\u001b[39;00m to_be_computed_data_pair\n\u001b[0;32m    539\u001b[0m ]\n\u001b[0;32m    540\u001b[0m \u001b[38;5;28;01mif\u001b[39;00m \u001b[38;5;28mself\u001b[39m\u001b[38;5;241m.\u001b[39m_quantum_instance\u001b[38;5;241m.\u001b[39mbound_pass_manager \u001b[38;5;129;01mis\u001b[39;00m \u001b[38;5;129;01mnot\u001b[39;00m \u001b[38;5;28;01mNone\u001b[39;00m:\n\u001b[0;32m    541\u001b[0m     circuits \u001b[38;5;241m=\u001b[39m \u001b[38;5;28mself\u001b[39m\u001b[38;5;241m.\u001b[39m_quantum_instance\u001b[38;5;241m.\u001b[39mtranspile(\n\u001b[0;32m    542\u001b[0m         circuits, pass_manager\u001b[38;5;241m=\u001b[39m\u001b[38;5;28mself\u001b[39m\u001b[38;5;241m.\u001b[39m_quantum_instance\u001b[38;5;241m.\u001b[39mbound_pass_manager\n\u001b[0;32m    543\u001b[0m     )\n",
      "File \u001b[1;32m~\\AppData\\Local\\Programs\\Python\\Python39\\lib\\site-packages\\qiskit_machine_learning\\kernels\\quantum_kernel.py:535\u001b[0m, in \u001b[0;36m<listcomp>\u001b[1;34m(.0)\u001b[0m\n\u001b[0;32m    531\u001b[0m         to_be_computed_data_pair\u001b[38;5;241m.\u001b[39mappend((x_i, y_j))\n\u001b[0;32m    532\u001b[0m         to_be_computed_index\u001b[38;5;241m.\u001b[39mappend((i, j))\n\u001b[0;32m    534\u001b[0m circuits \u001b[38;5;241m=\u001b[39m [\n\u001b[1;32m--> 535\u001b[0m     \u001b[43mparameterized_circuit\u001b[49m\u001b[38;5;241;43m.\u001b[39;49m\u001b[43massign_parameters\u001b[49m\u001b[43m(\u001b[49m\n\u001b[0;32m    536\u001b[0m \u001b[43m        \u001b[49m\u001b[43m{\u001b[49m\u001b[43mfeature_map_params_x\u001b[49m\u001b[43m:\u001b[49m\u001b[43m \u001b[49m\u001b[43mx\u001b[49m\u001b[43m,\u001b[49m\u001b[43m \u001b[49m\u001b[43mfeature_map_params_y\u001b[49m\u001b[43m:\u001b[49m\u001b[43m \u001b[49m\u001b[43my\u001b[49m\u001b[43m}\u001b[49m\n\u001b[0;32m    537\u001b[0m \u001b[43m    \u001b[49m\u001b[43m)\u001b[49m\n\u001b[0;32m    538\u001b[0m     \u001b[38;5;28;01mfor\u001b[39;00m x, y \u001b[38;5;129;01min\u001b[39;00m to_be_computed_data_pair\n\u001b[0;32m    539\u001b[0m ]\n\u001b[0;32m    540\u001b[0m \u001b[38;5;28;01mif\u001b[39;00m \u001b[38;5;28mself\u001b[39m\u001b[38;5;241m.\u001b[39m_quantum_instance\u001b[38;5;241m.\u001b[39mbound_pass_manager \u001b[38;5;129;01mis\u001b[39;00m \u001b[38;5;129;01mnot\u001b[39;00m \u001b[38;5;28;01mNone\u001b[39;00m:\n\u001b[0;32m    541\u001b[0m     circuits \u001b[38;5;241m=\u001b[39m \u001b[38;5;28mself\u001b[39m\u001b[38;5;241m.\u001b[39m_quantum_instance\u001b[38;5;241m.\u001b[39mtranspile(\n\u001b[0;32m    542\u001b[0m         circuits, pass_manager\u001b[38;5;241m=\u001b[39m\u001b[38;5;28mself\u001b[39m\u001b[38;5;241m.\u001b[39m_quantum_instance\u001b[38;5;241m.\u001b[39mbound_pass_manager\n\u001b[0;32m    543\u001b[0m     )\n",
      "File \u001b[1;32m~\\AppData\\Roaming\\Python\\Python39\\site-packages\\qiskit\\circuit\\quantumcircuit.py:2480\u001b[0m, in \u001b[0;36mQuantumCircuit.assign_parameters\u001b[1;34m(self, parameters, inplace)\u001b[0m\n\u001b[0;32m   2478\u001b[0m     \u001b[38;5;66;03m# replace the parameters with a new Parameter (\"substitute\") or numeric value (\"bind\")\u001b[39;00m\n\u001b[0;32m   2479\u001b[0m     \u001b[38;5;28;01mfor\u001b[39;00m parameter, value \u001b[38;5;129;01min\u001b[39;00m unrolled_param_dict\u001b[38;5;241m.\u001b[39mitems():\n\u001b[1;32m-> 2480\u001b[0m         \u001b[43mbound_circuit\u001b[49m\u001b[38;5;241;43m.\u001b[39;49m\u001b[43m_assign_parameter\u001b[49m\u001b[43m(\u001b[49m\u001b[43mparameter\u001b[49m\u001b[43m,\u001b[49m\u001b[43m \u001b[49m\u001b[43mvalue\u001b[49m\u001b[43m)\u001b[49m\n\u001b[0;32m   2481\u001b[0m \u001b[38;5;28;01melse\u001b[39;00m:\n\u001b[0;32m   2482\u001b[0m     \u001b[38;5;28;01mif\u001b[39;00m \u001b[38;5;28mlen\u001b[39m(parameters) \u001b[38;5;241m!=\u001b[39m \u001b[38;5;28mself\u001b[39m\u001b[38;5;241m.\u001b[39mnum_parameters:\n",
      "File \u001b[1;32m~\\AppData\\Roaming\\Python\\Python39\\site-packages\\qiskit\\circuit\\quantumcircuit.py:2563\u001b[0m, in \u001b[0;36mQuantumCircuit._assign_parameter\u001b[1;34m(self, parameter, value)\u001b[0m\n\u001b[0;32m   2561\u001b[0m \u001b[38;5;66;03m# Normal ParameterExpression.\u001b[39;00m\n\u001b[0;32m   2562\u001b[0m \u001b[38;5;28;01mif\u001b[39;00m \u001b[38;5;28misinstance\u001b[39m(assignee, ParameterExpression):\n\u001b[1;32m-> 2563\u001b[0m     new_param \u001b[38;5;241m=\u001b[39m \u001b[43massignee\u001b[49m\u001b[38;5;241;43m.\u001b[39;49m\u001b[43massign\u001b[49m\u001b[43m(\u001b[49m\u001b[43mparameter\u001b[49m\u001b[43m,\u001b[49m\u001b[43m \u001b[49m\u001b[43mvalue\u001b[49m\u001b[43m)\u001b[49m\n\u001b[0;32m   2564\u001b[0m     \u001b[38;5;66;03m# if fully bound, validate\u001b[39;00m\n\u001b[0;32m   2565\u001b[0m     \u001b[38;5;28;01mif\u001b[39;00m \u001b[38;5;28mlen\u001b[39m(new_param\u001b[38;5;241m.\u001b[39mparameters) \u001b[38;5;241m==\u001b[39m \u001b[38;5;241m0\u001b[39m:\n",
      "File \u001b[1;32m~\\AppData\\Roaming\\Python\\Python39\\site-packages\\qiskit\\circuit\\parameterexpression.py:91\u001b[0m, in \u001b[0;36mParameterExpression.assign\u001b[1;34m(self, parameter, value)\u001b[0m\n\u001b[0;32m     89\u001b[0m \u001b[38;5;28;01mif\u001b[39;00m \u001b[38;5;28misinstance\u001b[39m(value, ParameterExpression):\n\u001b[0;32m     90\u001b[0m     \u001b[38;5;28;01mreturn\u001b[39;00m \u001b[38;5;28mself\u001b[39m\u001b[38;5;241m.\u001b[39msubs({parameter: value})\n\u001b[1;32m---> 91\u001b[0m \u001b[38;5;28;01mreturn\u001b[39;00m \u001b[38;5;28;43mself\u001b[39;49m\u001b[38;5;241;43m.\u001b[39;49m\u001b[43mbind\u001b[49m\u001b[43m(\u001b[49m\u001b[43m{\u001b[49m\u001b[43mparameter\u001b[49m\u001b[43m:\u001b[49m\u001b[43m \u001b[49m\u001b[43mvalue\u001b[49m\u001b[43m}\u001b[49m\u001b[43m)\u001b[49m\n",
      "File \u001b[1;32m~\\AppData\\Roaming\\Python\\Python39\\site-packages\\qiskit\\circuit\\parameterexpression.py:120\u001b[0m, in \u001b[0;36mParameterExpression.bind\u001b[1;34m(self, parameter_values)\u001b[0m\n\u001b[0;32m    117\u001b[0m     param_expr \u001b[38;5;241m=\u001b[39m \u001b[38;5;28mself\u001b[39m\u001b[38;5;241m.\u001b[39m_parameter_symbols[parameter]\n\u001b[0;32m    118\u001b[0m     symbol_values[param_expr] \u001b[38;5;241m=\u001b[39m value\n\u001b[1;32m--> 120\u001b[0m bound_symbol_expr \u001b[38;5;241m=\u001b[39m \u001b[38;5;28;43mself\u001b[39;49m\u001b[38;5;241;43m.\u001b[39;49m\u001b[43m_symbol_expr\u001b[49m\u001b[38;5;241;43m.\u001b[39;49m\u001b[43msubs\u001b[49m\u001b[43m(\u001b[49m\u001b[43msymbol_values\u001b[49m\u001b[43m)\u001b[49m\n\u001b[0;32m    122\u001b[0m \u001b[38;5;66;03m# Don't use sympy.free_symbols to count remaining parameters here.\u001b[39;00m\n\u001b[0;32m    123\u001b[0m \u001b[38;5;66;03m# sympy will in some cases reduce the expression and remove even\u001b[39;00m\n\u001b[0;32m    124\u001b[0m \u001b[38;5;66;03m# unbound symbols.\u001b[39;00m\n\u001b[0;32m    125\u001b[0m \u001b[38;5;66;03m# e.g. (sympy.Symbol('s') * 0).free_symbols == set()\u001b[39;00m\n\u001b[0;32m    127\u001b[0m free_parameters \u001b[38;5;241m=\u001b[39m \u001b[38;5;28mself\u001b[39m\u001b[38;5;241m.\u001b[39mparameters \u001b[38;5;241m-\u001b[39m parameter_values\u001b[38;5;241m.\u001b[39mkeys()\n",
      "File \u001b[1;32m~\\AppData\\Local\\Programs\\Python\\Python39\\lib\\site-packages\\sympy\\core\\basic.py:902\u001b[0m, in \u001b[0;36mBasic.subs\u001b[1;34m(self, *args, **kwargs)\u001b[0m\n\u001b[0;32m    900\u001b[0m     s \u001b[38;5;241m=\u001b[39m Symbol(s[\u001b[38;5;241m0\u001b[39m]), s[\u001b[38;5;241m1\u001b[39m]\n\u001b[0;32m    901\u001b[0m \u001b[38;5;28;01mtry\u001b[39;00m:\n\u001b[1;32m--> 902\u001b[0m     s \u001b[38;5;241m=\u001b[39m [sympify(_, strict\u001b[38;5;241m=\u001b[39m\u001b[38;5;129;01mnot\u001b[39;00m \u001b[38;5;28misinstance\u001b[39m(_, (\u001b[38;5;28mstr\u001b[39m, \u001b[38;5;28mtype\u001b[39m)))\n\u001b[0;32m    903\u001b[0m          \u001b[38;5;28;01mfor\u001b[39;00m _ \u001b[38;5;129;01min\u001b[39;00m s]\n\u001b[0;32m    904\u001b[0m \u001b[38;5;28;01mexcept\u001b[39;00m SympifyError:\n\u001b[0;32m    905\u001b[0m     \u001b[38;5;66;03m# if it can't be sympified, skip it\u001b[39;00m\n\u001b[0;32m    906\u001b[0m     sequence[i] \u001b[38;5;241m=\u001b[39m \u001b[38;5;28;01mNone\u001b[39;00m\n",
      "File \u001b[1;32m~\\AppData\\Local\\Programs\\Python\\Python39\\lib\\site-packages\\sympy\\core\\basic.py:902\u001b[0m, in \u001b[0;36m<listcomp>\u001b[1;34m(.0)\u001b[0m\n\u001b[0;32m    900\u001b[0m     s \u001b[38;5;241m=\u001b[39m Symbol(s[\u001b[38;5;241m0\u001b[39m]), s[\u001b[38;5;241m1\u001b[39m]\n\u001b[0;32m    901\u001b[0m \u001b[38;5;28;01mtry\u001b[39;00m:\n\u001b[1;32m--> 902\u001b[0m     s \u001b[38;5;241m=\u001b[39m [sympify(_, strict\u001b[38;5;241m=\u001b[39m\u001b[38;5;129;01mnot\u001b[39;00m \u001b[38;5;28misinstance\u001b[39m(_, (\u001b[38;5;28mstr\u001b[39m, \u001b[38;5;28mtype\u001b[39m)))\n\u001b[0;32m    903\u001b[0m          \u001b[38;5;28;01mfor\u001b[39;00m _ \u001b[38;5;129;01min\u001b[39;00m s]\n\u001b[0;32m    904\u001b[0m \u001b[38;5;28;01mexcept\u001b[39;00m SympifyError:\n\u001b[0;32m    905\u001b[0m     \u001b[38;5;66;03m# if it can't be sympified, skip it\u001b[39;00m\n\u001b[0;32m    906\u001b[0m     sequence[i] \u001b[38;5;241m=\u001b[39m \u001b[38;5;28;01mNone\u001b[39;00m\n",
      "\u001b[1;31mKeyboardInterrupt\u001b[0m: "
     ]
    }
   ],
   "source": [
    "print(f\"score train\",score_train)\n",
    "prediction =engine.predict(X_te_pca)"
   ]
  },
  {
   "cell_type": "code",
   "execution_count": null,
   "id": "c58e5c6e",
   "metadata": {},
   "outputs": [],
   "source": []
  },
  {
   "cell_type": "markdown",
   "id": "0a29ea86",
   "metadata": {},
   "source": [
    "# VQC"
   ]
  },
  {
   "cell_type": "code",
   "execution_count": 128,
   "id": "7de09f54",
   "metadata": {},
   "outputs": [
    {
     "name": "stdout",
     "output_type": "stream",
     "text": [
      "define backend\n",
      "define OpFlowQNN\n",
      "define the callback function : did not build to be consider later on\n",
      "define NN classifer\n",
      "define PCA for train\n",
      "define PCA for test\n",
      "train the model\n"
     ]
    },
    {
     "ename": "KeyboardInterrupt",
     "evalue": "",
     "output_type": "error",
     "traceback": [
      "\u001b[1;31m---------------------------------------------------------------------------\u001b[0m",
      "\u001b[1;31mKeyboardInterrupt\u001b[0m                         Traceback (most recent call last)",
      "Input \u001b[1;32mIn [128]\u001b[0m, in \u001b[0;36m<cell line: 16>\u001b[1;34m()\u001b[0m\n\u001b[0;32m     14\u001b[0m test_features \u001b[38;5;241m=\u001b[39m pcatest\u001b[38;5;241m.\u001b[39mfit_transform(X_valid)\n\u001b[0;32m     15\u001b[0m \u001b[38;5;28mprint\u001b[39m(\u001b[38;5;124m\"\u001b[39m\u001b[38;5;124mtrain the model\u001b[39m\u001b[38;5;124m\"\u001b[39m)\n\u001b[1;32m---> 16\u001b[0m \u001b[43mopflow_classifer\u001b[49m\u001b[38;5;241;43m.\u001b[39;49m\u001b[43mfit\u001b[49m\u001b[43m(\u001b[49m\u001b[43mtrain_features\u001b[49m\u001b[43m,\u001b[49m\u001b[43my_train\u001b[49m\u001b[38;5;241;43m.\u001b[39;49m\u001b[43mvalues\u001b[49m\u001b[43m)\u001b[49m\n",
      "File \u001b[1;32m~\\AppData\\Local\\Programs\\Python\\Python39\\lib\\site-packages\\qiskit_machine_learning\\algorithms\\classifiers\\neural_network_classifier.py:111\u001b[0m, in \u001b[0;36mNeuralNetworkClassifier.fit\u001b[1;34m(self, X, y)\u001b[0m\n\u001b[0;32m    107\u001b[0m         function \u001b[38;5;241m=\u001b[39m MultiClassObjectiveFunction(X, y, \u001b[38;5;28mself\u001b[39m\u001b[38;5;241m.\u001b[39m_neural_network, \u001b[38;5;28mself\u001b[39m\u001b[38;5;241m.\u001b[39m_loss)\n\u001b[0;32m    109\u001b[0m objective \u001b[38;5;241m=\u001b[39m \u001b[38;5;28mself\u001b[39m\u001b[38;5;241m.\u001b[39m_get_objective(function)\n\u001b[1;32m--> 111\u001b[0m \u001b[38;5;28mself\u001b[39m\u001b[38;5;241m.\u001b[39m_fit_result \u001b[38;5;241m=\u001b[39m \u001b[38;5;28;43mself\u001b[39;49m\u001b[38;5;241;43m.\u001b[39;49m\u001b[43m_optimizer\u001b[49m\u001b[38;5;241;43m.\u001b[39;49m\u001b[43mminimize\u001b[49m\u001b[43m(\u001b[49m\n\u001b[0;32m    112\u001b[0m \u001b[43m    \u001b[49m\u001b[43mfun\u001b[49m\u001b[38;5;241;43m=\u001b[39;49m\u001b[43mobjective\u001b[49m\u001b[43m,\u001b[49m\n\u001b[0;32m    113\u001b[0m \u001b[43m    \u001b[49m\u001b[43mx0\u001b[49m\u001b[38;5;241;43m=\u001b[39;49m\u001b[38;5;28;43mself\u001b[39;49m\u001b[38;5;241;43m.\u001b[39;49m\u001b[43m_choose_initial_point\u001b[49m\u001b[43m(\u001b[49m\u001b[43m)\u001b[49m\u001b[43m,\u001b[49m\n\u001b[0;32m    114\u001b[0m \u001b[43m    \u001b[49m\u001b[43mjac\u001b[49m\u001b[38;5;241;43m=\u001b[39;49m\u001b[43mfunction\u001b[49m\u001b[38;5;241;43m.\u001b[39;49m\u001b[43mgradient\u001b[49m\u001b[43m,\u001b[49m\n\u001b[0;32m    115\u001b[0m \u001b[43m\u001b[49m\u001b[43m)\u001b[49m\n\u001b[0;32m    116\u001b[0m \u001b[38;5;28;01mreturn\u001b[39;00m \u001b[38;5;28mself\u001b[39m\n",
      "File \u001b[1;32m~\\AppData\\Roaming\\Python\\Python39\\site-packages\\qiskit\\algorithms\\optimizers\\scipy_optimizer.py:129\u001b[0m, in \u001b[0;36mSciPyOptimizer.minimize\u001b[1;34m(self, fun, x0, jac, bounds)\u001b[0m\n\u001b[0;32m    126\u001b[0m \u001b[38;5;28;01mif\u001b[39;00m jac \u001b[38;5;129;01mis\u001b[39;00m \u001b[38;5;129;01mnot\u001b[39;00m \u001b[38;5;28;01mNone\u001b[39;00m \u001b[38;5;129;01mand\u001b[39;00m \u001b[38;5;28mself\u001b[39m\u001b[38;5;241m.\u001b[39m_method \u001b[38;5;241m==\u001b[39m \u001b[38;5;124m\"\u001b[39m\u001b[38;5;124ml-bfgs-b\u001b[39m\u001b[38;5;124m\"\u001b[39m:\n\u001b[0;32m    127\u001b[0m     jac \u001b[38;5;241m=\u001b[39m \u001b[38;5;28mself\u001b[39m\u001b[38;5;241m.\u001b[39m_wrap_gradient(jac)\n\u001b[1;32m--> 129\u001b[0m raw_result \u001b[38;5;241m=\u001b[39m minimize(\n\u001b[0;32m    130\u001b[0m     fun\u001b[38;5;241m=\u001b[39mfun,\n\u001b[0;32m    131\u001b[0m     x0\u001b[38;5;241m=\u001b[39mx0,\n\u001b[0;32m    132\u001b[0m     method\u001b[38;5;241m=\u001b[39m\u001b[38;5;28mself\u001b[39m\u001b[38;5;241m.\u001b[39m_method,\n\u001b[0;32m    133\u001b[0m     jac\u001b[38;5;241m=\u001b[39mjac,\n\u001b[0;32m    134\u001b[0m     bounds\u001b[38;5;241m=\u001b[39mbounds,\n\u001b[0;32m    135\u001b[0m     options\u001b[38;5;241m=\u001b[39m\u001b[38;5;28mself\u001b[39m\u001b[38;5;241m.\u001b[39m_options,\n\u001b[0;32m    136\u001b[0m     \u001b[38;5;241m*\u001b[39m\u001b[38;5;241m*\u001b[39m\u001b[38;5;28mself\u001b[39m\u001b[38;5;241m.\u001b[39m_kwargs,\n\u001b[0;32m    137\u001b[0m )\n\u001b[0;32m    138\u001b[0m result \u001b[38;5;241m=\u001b[39m OptimizerResult()\n\u001b[0;32m    139\u001b[0m result\u001b[38;5;241m.\u001b[39mx \u001b[38;5;241m=\u001b[39m raw_result\u001b[38;5;241m.\u001b[39mx\n",
      "File \u001b[1;32m~\\AppData\\Roaming\\Python\\Python39\\site-packages\\scipy\\optimize\\_minimize.py:625\u001b[0m, in \u001b[0;36mminimize\u001b[1;34m(fun, x0, args, method, jac, hess, hessp, bounds, constraints, tol, callback, options)\u001b[0m\n\u001b[0;32m    622\u001b[0m     \u001b[38;5;28;01mreturn\u001b[39;00m _minimize_tnc(fun, x0, args, jac, bounds, callback\u001b[38;5;241m=\u001b[39mcallback,\n\u001b[0;32m    623\u001b[0m                          \u001b[38;5;241m*\u001b[39m\u001b[38;5;241m*\u001b[39moptions)\n\u001b[0;32m    624\u001b[0m \u001b[38;5;28;01melif\u001b[39;00m meth \u001b[38;5;241m==\u001b[39m \u001b[38;5;124m'\u001b[39m\u001b[38;5;124mcobyla\u001b[39m\u001b[38;5;124m'\u001b[39m:\n\u001b[1;32m--> 625\u001b[0m     \u001b[38;5;28;01mreturn\u001b[39;00m _minimize_cobyla(fun, x0, args, constraints, \u001b[38;5;241m*\u001b[39m\u001b[38;5;241m*\u001b[39moptions)\n\u001b[0;32m    626\u001b[0m \u001b[38;5;28;01melif\u001b[39;00m meth \u001b[38;5;241m==\u001b[39m \u001b[38;5;124m'\u001b[39m\u001b[38;5;124mslsqp\u001b[39m\u001b[38;5;124m'\u001b[39m:\n\u001b[0;32m    627\u001b[0m     \u001b[38;5;28;01mreturn\u001b[39;00m _minimize_slsqp(fun, x0, args, jac, bounds,\n\u001b[0;32m    628\u001b[0m                            constraints, callback\u001b[38;5;241m=\u001b[39mcallback, \u001b[38;5;241m*\u001b[39m\u001b[38;5;241m*\u001b[39moptions)\n",
      "File \u001b[1;32m~\\AppData\\Roaming\\Python\\Python39\\site-packages\\scipy\\optimize\\cobyla.py:34\u001b[0m, in \u001b[0;36msynchronized.<locals>.wrapper\u001b[1;34m(*args, **kwargs)\u001b[0m\n\u001b[0;32m     31\u001b[0m \u001b[38;5;129m@functools\u001b[39m\u001b[38;5;241m.\u001b[39mwraps(func)\n\u001b[0;32m     32\u001b[0m \u001b[38;5;28;01mdef\u001b[39;00m \u001b[38;5;21mwrapper\u001b[39m(\u001b[38;5;241m*\u001b[39margs, \u001b[38;5;241m*\u001b[39m\u001b[38;5;241m*\u001b[39mkwargs):\n\u001b[0;32m     33\u001b[0m     \u001b[38;5;28;01mwith\u001b[39;00m _module_lock:\n\u001b[1;32m---> 34\u001b[0m         \u001b[38;5;28;01mreturn\u001b[39;00m func(\u001b[38;5;241m*\u001b[39margs, \u001b[38;5;241m*\u001b[39m\u001b[38;5;241m*\u001b[39mkwargs)\n",
      "File \u001b[1;32m~\\AppData\\Roaming\\Python\\Python39\\site-packages\\scipy\\optimize\\cobyla.py:260\u001b[0m, in \u001b[0;36m_minimize_cobyla\u001b[1;34m(fun, x0, args, constraints, rhobeg, tol, maxiter, disp, catol, **unknown_options)\u001b[0m\n\u001b[0;32m    257\u001b[0m     \u001b[38;5;28;01mreturn\u001b[39;00m f\n\u001b[0;32m    259\u001b[0m info \u001b[38;5;241m=\u001b[39m np\u001b[38;5;241m.\u001b[39mzeros(\u001b[38;5;241m4\u001b[39m, np\u001b[38;5;241m.\u001b[39mfloat64)\n\u001b[1;32m--> 260\u001b[0m xopt, info \u001b[38;5;241m=\u001b[39m \u001b[43m_cobyla\u001b[49m\u001b[38;5;241;43m.\u001b[39;49m\u001b[43mminimize\u001b[49m\u001b[43m(\u001b[49m\u001b[43mcalcfc\u001b[49m\u001b[43m,\u001b[49m\u001b[43m \u001b[49m\u001b[43mm\u001b[49m\u001b[38;5;241;43m=\u001b[39;49m\u001b[43mm\u001b[49m\u001b[43m,\u001b[49m\u001b[43m \u001b[49m\u001b[43mx\u001b[49m\u001b[38;5;241;43m=\u001b[39;49m\u001b[43mnp\u001b[49m\u001b[38;5;241;43m.\u001b[39;49m\u001b[43mcopy\u001b[49m\u001b[43m(\u001b[49m\u001b[43mx0\u001b[49m\u001b[43m)\u001b[49m\u001b[43m,\u001b[49m\u001b[43m \u001b[49m\u001b[43mrhobeg\u001b[49m\u001b[38;5;241;43m=\u001b[39;49m\u001b[43mrhobeg\u001b[49m\u001b[43m,\u001b[49m\n\u001b[0;32m    261\u001b[0m \u001b[43m                              \u001b[49m\u001b[43mrhoend\u001b[49m\u001b[38;5;241;43m=\u001b[39;49m\u001b[43mrhoend\u001b[49m\u001b[43m,\u001b[49m\u001b[43m \u001b[49m\u001b[43miprint\u001b[49m\u001b[38;5;241;43m=\u001b[39;49m\u001b[43miprint\u001b[49m\u001b[43m,\u001b[49m\u001b[43m \u001b[49m\u001b[43mmaxfun\u001b[49m\u001b[38;5;241;43m=\u001b[39;49m\u001b[43mmaxfun\u001b[49m\u001b[43m,\u001b[49m\n\u001b[0;32m    262\u001b[0m \u001b[43m                              \u001b[49m\u001b[43mdinfo\u001b[49m\u001b[38;5;241;43m=\u001b[39;49m\u001b[43minfo\u001b[49m\u001b[43m)\u001b[49m\n\u001b[0;32m    264\u001b[0m \u001b[38;5;28;01mif\u001b[39;00m info[\u001b[38;5;241m3\u001b[39m] \u001b[38;5;241m>\u001b[39m catol:\n\u001b[0;32m    265\u001b[0m     \u001b[38;5;66;03m# Check constraint violation\u001b[39;00m\n\u001b[0;32m    266\u001b[0m     info[\u001b[38;5;241m0\u001b[39m] \u001b[38;5;241m=\u001b[39m \u001b[38;5;241m4\u001b[39m\n",
      "File \u001b[1;32m~\\AppData\\Roaming\\Python\\Python39\\site-packages\\scipy\\optimize\\cobyla.py:252\u001b[0m, in \u001b[0;36m_minimize_cobyla.<locals>.calcfc\u001b[1;34m(x, con)\u001b[0m\n\u001b[0;32m    251\u001b[0m \u001b[38;5;28;01mdef\u001b[39;00m \u001b[38;5;21mcalcfc\u001b[39m(x, con):\n\u001b[1;32m--> 252\u001b[0m     f \u001b[38;5;241m=\u001b[39m \u001b[43mfun\u001b[49m\u001b[43m(\u001b[49m\u001b[43mx\u001b[49m\u001b[43m,\u001b[49m\u001b[43m \u001b[49m\u001b[38;5;241;43m*\u001b[39;49m\u001b[43margs\u001b[49m\u001b[43m)\u001b[49m\n\u001b[0;32m    253\u001b[0m     i \u001b[38;5;241m=\u001b[39m \u001b[38;5;241m0\u001b[39m\n\u001b[0;32m    254\u001b[0m     \u001b[38;5;28;01mfor\u001b[39;00m size, c \u001b[38;5;129;01min\u001b[39;00m izip(cons_lengths, constraints):\n",
      "File \u001b[1;32m~\\AppData\\Local\\Programs\\Python\\Python39\\lib\\site-packages\\qiskit_machine_learning\\algorithms\\objective_functions.py:115\u001b[0m, in \u001b[0;36mBinaryObjectiveFunction.objective\u001b[1;34m(self, weights)\u001b[0m\n\u001b[0;32m    113\u001b[0m \u001b[38;5;28;01mdef\u001b[39;00m \u001b[38;5;21mobjective\u001b[39m(\u001b[38;5;28mself\u001b[39m, weights: np\u001b[38;5;241m.\u001b[39mndarray) \u001b[38;5;241m-\u001b[39m\u001b[38;5;241m>\u001b[39m \u001b[38;5;28mfloat\u001b[39m:\n\u001b[0;32m    114\u001b[0m     \u001b[38;5;66;03m# predict is of shape (N, 1), where N is a number of samples\u001b[39;00m\n\u001b[1;32m--> 115\u001b[0m     predict \u001b[38;5;241m=\u001b[39m \u001b[38;5;28;43mself\u001b[39;49m\u001b[38;5;241;43m.\u001b[39;49m\u001b[43m_neural_network_forward\u001b[49m\u001b[43m(\u001b[49m\u001b[43mweights\u001b[49m\u001b[43m)\u001b[49m\n\u001b[0;32m    116\u001b[0m     target \u001b[38;5;241m=\u001b[39m np\u001b[38;5;241m.\u001b[39marray(\u001b[38;5;28mself\u001b[39m\u001b[38;5;241m.\u001b[39m_y)\u001b[38;5;241m.\u001b[39mreshape(predict\u001b[38;5;241m.\u001b[39mshape)\n\u001b[0;32m    117\u001b[0m     \u001b[38;5;66;03m# float(...) is for mypy compliance\u001b[39;00m\n",
      "File \u001b[1;32m~\\AppData\\Local\\Programs\\Python\\Python39\\lib\\site-packages\\qiskit_machine_learning\\algorithms\\objective_functions.py:102\u001b[0m, in \u001b[0;36mObjectiveFunction._neural_network_forward\u001b[1;34m(self, weights)\u001b[0m\n\u001b[0;32m     97\u001b[0m \u001b[38;5;66;03m# if we get the same weights, we don't compute the forward pass again.\u001b[39;00m\n\u001b[0;32m     98\u001b[0m \u001b[38;5;28;01mif\u001b[39;00m \u001b[38;5;28mself\u001b[39m\u001b[38;5;241m.\u001b[39m_last_forward_weights \u001b[38;5;129;01mis\u001b[39;00m \u001b[38;5;28;01mNone\u001b[39;00m \u001b[38;5;129;01mor\u001b[39;00m (\n\u001b[0;32m     99\u001b[0m     \u001b[38;5;129;01mnot\u001b[39;00m np\u001b[38;5;241m.\u001b[39mall(np\u001b[38;5;241m.\u001b[39misclose(weights, \u001b[38;5;28mself\u001b[39m\u001b[38;5;241m.\u001b[39m_last_forward_weights))\n\u001b[0;32m    100\u001b[0m ):\n\u001b[0;32m    101\u001b[0m     \u001b[38;5;66;03m# compute forward and cache the results for re-use in backward\u001b[39;00m\n\u001b[1;32m--> 102\u001b[0m     \u001b[38;5;28mself\u001b[39m\u001b[38;5;241m.\u001b[39m_last_forward \u001b[38;5;241m=\u001b[39m \u001b[38;5;28;43mself\u001b[39;49m\u001b[38;5;241;43m.\u001b[39;49m\u001b[43m_neural_network\u001b[49m\u001b[38;5;241;43m.\u001b[39;49m\u001b[43mforward\u001b[49m\u001b[43m(\u001b[49m\u001b[38;5;28;43mself\u001b[39;49m\u001b[38;5;241;43m.\u001b[39;49m\u001b[43m_X\u001b[49m\u001b[43m,\u001b[49m\u001b[43m \u001b[49m\u001b[43mweights\u001b[49m\u001b[43m)\u001b[49m\n\u001b[0;32m    103\u001b[0m     \u001b[38;5;66;03m# a copy avoids keeping a reference to the same array, so we are sure we have\u001b[39;00m\n\u001b[0;32m    104\u001b[0m     \u001b[38;5;66;03m# different arrays on the next iteration.\u001b[39;00m\n\u001b[0;32m    105\u001b[0m     \u001b[38;5;28mself\u001b[39m\u001b[38;5;241m.\u001b[39m_last_forward_weights \u001b[38;5;241m=\u001b[39m np\u001b[38;5;241m.\u001b[39mcopy(weights)\n",
      "File \u001b[1;32m~\\AppData\\Local\\Programs\\Python\\Python39\\lib\\site-packages\\qiskit_machine_learning\\neural_networks\\neural_network.py:201\u001b[0m, in \u001b[0;36mNeuralNetwork.forward\u001b[1;34m(self, input_data, weights)\u001b[0m\n\u001b[0;32m    199\u001b[0m input_, shape \u001b[38;5;241m=\u001b[39m \u001b[38;5;28mself\u001b[39m\u001b[38;5;241m.\u001b[39m_validate_input(input_data)\n\u001b[0;32m    200\u001b[0m weights_ \u001b[38;5;241m=\u001b[39m \u001b[38;5;28mself\u001b[39m\u001b[38;5;241m.\u001b[39m_validate_weights(weights)\n\u001b[1;32m--> 201\u001b[0m output_data \u001b[38;5;241m=\u001b[39m \u001b[38;5;28;43mself\u001b[39;49m\u001b[38;5;241;43m.\u001b[39;49m\u001b[43m_forward\u001b[49m\u001b[43m(\u001b[49m\u001b[43minput_\u001b[49m\u001b[43m,\u001b[49m\u001b[43m \u001b[49m\u001b[43mweights_\u001b[49m\u001b[43m)\u001b[49m\n\u001b[0;32m    202\u001b[0m \u001b[38;5;28;01mreturn\u001b[39;00m \u001b[38;5;28mself\u001b[39m\u001b[38;5;241m.\u001b[39m_validate_forward_output(output_data, shape)\n",
      "File \u001b[1;32m~\\AppData\\Local\\Programs\\Python\\Python39\\lib\\site-packages\\qiskit_machine_learning\\neural_networks\\opflow_qnn.py:195\u001b[0m, in \u001b[0;36mOpflowQNN._forward\u001b[1;34m(self, input_data, weights)\u001b[0m\n\u001b[0;32m    193\u001b[0m \u001b[38;5;66;03m# evaluate operator\u001b[39;00m\n\u001b[0;32m    194\u001b[0m \u001b[38;5;28;01mif\u001b[39;00m \u001b[38;5;28mself\u001b[39m\u001b[38;5;241m.\u001b[39m_circuit_sampler:\n\u001b[1;32m--> 195\u001b[0m     op \u001b[38;5;241m=\u001b[39m \u001b[38;5;28;43mself\u001b[39;49m\u001b[38;5;241;43m.\u001b[39;49m\u001b[43m_circuit_sampler\u001b[49m\u001b[38;5;241;43m.\u001b[39;49m\u001b[43mconvert\u001b[49m\u001b[43m(\u001b[49m\u001b[38;5;28;43mself\u001b[39;49m\u001b[38;5;241;43m.\u001b[39;49m\u001b[43m_forward_operator\u001b[49m\u001b[43m,\u001b[49m\u001b[43m \u001b[49m\u001b[43mparam_values\u001b[49m\u001b[43m)\u001b[49m\n\u001b[0;32m    196\u001b[0m     result \u001b[38;5;241m=\u001b[39m np\u001b[38;5;241m.\u001b[39mreal(op\u001b[38;5;241m.\u001b[39meval())\n\u001b[0;32m    197\u001b[0m \u001b[38;5;28;01melse\u001b[39;00m:\n",
      "File \u001b[1;32m~\\AppData\\Roaming\\Python\\Python39\\site-packages\\qiskit\\opflow\\converters\\circuit_sampler.py:218\u001b[0m, in \u001b[0;36mCircuitSampler.convert\u001b[1;34m(self, operator, params)\u001b[0m\n\u001b[0;32m    216\u001b[0m circs \u001b[38;5;241m=\u001b[39m \u001b[38;5;28mlist\u001b[39m(\u001b[38;5;28mself\u001b[39m\u001b[38;5;241m.\u001b[39m_circuit_ops_cache\u001b[38;5;241m.\u001b[39mvalues()) \u001b[38;5;28;01mif\u001b[39;00m \u001b[38;5;129;01mnot\u001b[39;00m \u001b[38;5;28mself\u001b[39m\u001b[38;5;241m.\u001b[39m_transpiled_circ_cache \u001b[38;5;28;01melse\u001b[39;00m \u001b[38;5;28;01mNone\u001b[39;00m\n\u001b[0;32m    217\u001b[0m p_b \u001b[38;5;241m=\u001b[39m cast(List[Dict[Parameter, \u001b[38;5;28mfloat\u001b[39m]], param_bindings)\n\u001b[1;32m--> 218\u001b[0m sampled_statefn_dicts \u001b[38;5;241m=\u001b[39m \u001b[38;5;28;43mself\u001b[39;49m\u001b[38;5;241;43m.\u001b[39;49m\u001b[43msample_circuits\u001b[49m\u001b[43m(\u001b[49m\u001b[43mcircuit_sfns\u001b[49m\u001b[38;5;241;43m=\u001b[39;49m\u001b[43mcircs\u001b[49m\u001b[43m,\u001b[49m\u001b[43m \u001b[49m\u001b[43mparam_bindings\u001b[49m\u001b[38;5;241;43m=\u001b[39;49m\u001b[43mp_b\u001b[49m\u001b[43m)\u001b[49m\n\u001b[0;32m    220\u001b[0m \u001b[38;5;28;01mdef\u001b[39;00m \u001b[38;5;21mreplace_circuits_with_dicts\u001b[39m(operator, param_index\u001b[38;5;241m=\u001b[39m\u001b[38;5;241m0\u001b[39m):\n\u001b[0;32m    221\u001b[0m     \u001b[38;5;28;01mif\u001b[39;00m \u001b[38;5;28misinstance\u001b[39m(operator, CircuitStateFn):\n",
      "File \u001b[1;32m~\\AppData\\Roaming\\Python\\Python39\\site-packages\\qiskit\\opflow\\converters\\circuit_sampler.py:321\u001b[0m, in \u001b[0;36mCircuitSampler.sample_circuits\u001b[1;34m(self, circuit_sfns, param_bindings)\u001b[0m\n\u001b[0;32m    319\u001b[0m \u001b[38;5;28;01melse\u001b[39;00m:\n\u001b[0;32m    320\u001b[0m     start_time \u001b[38;5;241m=\u001b[39m time()\n\u001b[1;32m--> 321\u001b[0m     ready_circs \u001b[38;5;241m=\u001b[39m [\n\u001b[0;32m    322\u001b[0m         circ\u001b[38;5;241m.\u001b[39massign_parameters(_filter_params(circ, binding))\n\u001b[0;32m    323\u001b[0m         \u001b[38;5;28;01mfor\u001b[39;00m circ \u001b[38;5;129;01min\u001b[39;00m \u001b[38;5;28mself\u001b[39m\u001b[38;5;241m.\u001b[39m_transpiled_circ_cache\n\u001b[0;32m    324\u001b[0m         \u001b[38;5;28;01mfor\u001b[39;00m binding \u001b[38;5;129;01min\u001b[39;00m param_bindings\n\u001b[0;32m    325\u001b[0m     ]\n\u001b[0;32m    326\u001b[0m     end_time \u001b[38;5;241m=\u001b[39m time()\n\u001b[0;32m    327\u001b[0m     logger\u001b[38;5;241m.\u001b[39mdebug(\u001b[38;5;124m\"\u001b[39m\u001b[38;5;124mParameter binding \u001b[39m\u001b[38;5;132;01m%.5f\u001b[39;00m\u001b[38;5;124m (ms)\u001b[39m\u001b[38;5;124m\"\u001b[39m, (end_time \u001b[38;5;241m-\u001b[39m start_time) \u001b[38;5;241m*\u001b[39m \u001b[38;5;241m1000\u001b[39m)\n",
      "File \u001b[1;32m~\\AppData\\Roaming\\Python\\Python39\\site-packages\\qiskit\\opflow\\converters\\circuit_sampler.py:322\u001b[0m, in \u001b[0;36m<listcomp>\u001b[1;34m(.0)\u001b[0m\n\u001b[0;32m    319\u001b[0m \u001b[38;5;28;01melse\u001b[39;00m:\n\u001b[0;32m    320\u001b[0m     start_time \u001b[38;5;241m=\u001b[39m time()\n\u001b[0;32m    321\u001b[0m     ready_circs \u001b[38;5;241m=\u001b[39m [\n\u001b[1;32m--> 322\u001b[0m         \u001b[43mcirc\u001b[49m\u001b[38;5;241;43m.\u001b[39;49m\u001b[43massign_parameters\u001b[49m\u001b[43m(\u001b[49m\u001b[43m_filter_params\u001b[49m\u001b[43m(\u001b[49m\u001b[43mcirc\u001b[49m\u001b[43m,\u001b[49m\u001b[43m \u001b[49m\u001b[43mbinding\u001b[49m\u001b[43m)\u001b[49m\u001b[43m)\u001b[49m\n\u001b[0;32m    323\u001b[0m         \u001b[38;5;28;01mfor\u001b[39;00m circ \u001b[38;5;129;01min\u001b[39;00m \u001b[38;5;28mself\u001b[39m\u001b[38;5;241m.\u001b[39m_transpiled_circ_cache\n\u001b[0;32m    324\u001b[0m         \u001b[38;5;28;01mfor\u001b[39;00m binding \u001b[38;5;129;01min\u001b[39;00m param_bindings\n\u001b[0;32m    325\u001b[0m     ]\n\u001b[0;32m    326\u001b[0m     end_time \u001b[38;5;241m=\u001b[39m time()\n\u001b[0;32m    327\u001b[0m     logger\u001b[38;5;241m.\u001b[39mdebug(\u001b[38;5;124m\"\u001b[39m\u001b[38;5;124mParameter binding \u001b[39m\u001b[38;5;132;01m%.5f\u001b[39;00m\u001b[38;5;124m (ms)\u001b[39m\u001b[38;5;124m\"\u001b[39m, (end_time \u001b[38;5;241m-\u001b[39m start_time) \u001b[38;5;241m*\u001b[39m \u001b[38;5;241m1000\u001b[39m)\n",
      "File \u001b[1;32m~\\AppData\\Roaming\\Python\\Python39\\site-packages\\qiskit\\circuit\\quantumcircuit.py:2480\u001b[0m, in \u001b[0;36mQuantumCircuit.assign_parameters\u001b[1;34m(self, parameters, inplace)\u001b[0m\n\u001b[0;32m   2478\u001b[0m     \u001b[38;5;66;03m# replace the parameters with a new Parameter (\"substitute\") or numeric value (\"bind\")\u001b[39;00m\n\u001b[0;32m   2479\u001b[0m     \u001b[38;5;28;01mfor\u001b[39;00m parameter, value \u001b[38;5;129;01min\u001b[39;00m unrolled_param_dict\u001b[38;5;241m.\u001b[39mitems():\n\u001b[1;32m-> 2480\u001b[0m         \u001b[43mbound_circuit\u001b[49m\u001b[38;5;241;43m.\u001b[39;49m\u001b[43m_assign_parameter\u001b[49m\u001b[43m(\u001b[49m\u001b[43mparameter\u001b[49m\u001b[43m,\u001b[49m\u001b[43m \u001b[49m\u001b[43mvalue\u001b[49m\u001b[43m)\u001b[49m\n\u001b[0;32m   2481\u001b[0m \u001b[38;5;28;01melse\u001b[39;00m:\n\u001b[0;32m   2482\u001b[0m     \u001b[38;5;28;01mif\u001b[39;00m \u001b[38;5;28mlen\u001b[39m(parameters) \u001b[38;5;241m!=\u001b[39m \u001b[38;5;28mself\u001b[39m\u001b[38;5;241m.\u001b[39mnum_parameters:\n",
      "File \u001b[1;32m~\\AppData\\Roaming\\Python\\Python39\\site-packages\\qiskit\\circuit\\quantumcircuit.py:2563\u001b[0m, in \u001b[0;36mQuantumCircuit._assign_parameter\u001b[1;34m(self, parameter, value)\u001b[0m\n\u001b[0;32m   2561\u001b[0m \u001b[38;5;66;03m# Normal ParameterExpression.\u001b[39;00m\n\u001b[0;32m   2562\u001b[0m \u001b[38;5;28;01mif\u001b[39;00m \u001b[38;5;28misinstance\u001b[39m(assignee, ParameterExpression):\n\u001b[1;32m-> 2563\u001b[0m     new_param \u001b[38;5;241m=\u001b[39m \u001b[43massignee\u001b[49m\u001b[38;5;241;43m.\u001b[39;49m\u001b[43massign\u001b[49m\u001b[43m(\u001b[49m\u001b[43mparameter\u001b[49m\u001b[43m,\u001b[49m\u001b[43m \u001b[49m\u001b[43mvalue\u001b[49m\u001b[43m)\u001b[49m\n\u001b[0;32m   2564\u001b[0m     \u001b[38;5;66;03m# if fully bound, validate\u001b[39;00m\n\u001b[0;32m   2565\u001b[0m     \u001b[38;5;28;01mif\u001b[39;00m \u001b[38;5;28mlen\u001b[39m(new_param\u001b[38;5;241m.\u001b[39mparameters) \u001b[38;5;241m==\u001b[39m \u001b[38;5;241m0\u001b[39m:\n",
      "File \u001b[1;32m~\\AppData\\Roaming\\Python\\Python39\\site-packages\\qiskit\\circuit\\parameterexpression.py:91\u001b[0m, in \u001b[0;36mParameterExpression.assign\u001b[1;34m(self, parameter, value)\u001b[0m\n\u001b[0;32m     89\u001b[0m \u001b[38;5;28;01mif\u001b[39;00m \u001b[38;5;28misinstance\u001b[39m(value, ParameterExpression):\n\u001b[0;32m     90\u001b[0m     \u001b[38;5;28;01mreturn\u001b[39;00m \u001b[38;5;28mself\u001b[39m\u001b[38;5;241m.\u001b[39msubs({parameter: value})\n\u001b[1;32m---> 91\u001b[0m \u001b[38;5;28;01mreturn\u001b[39;00m \u001b[38;5;28;43mself\u001b[39;49m\u001b[38;5;241;43m.\u001b[39;49m\u001b[43mbind\u001b[49m\u001b[43m(\u001b[49m\u001b[43m{\u001b[49m\u001b[43mparameter\u001b[49m\u001b[43m:\u001b[49m\u001b[43m \u001b[49m\u001b[43mvalue\u001b[49m\u001b[43m}\u001b[49m\u001b[43m)\u001b[49m\n",
      "File \u001b[1;32m~\\AppData\\Roaming\\Python\\Python39\\site-packages\\qiskit\\circuit\\parameterexpression.py:120\u001b[0m, in \u001b[0;36mParameterExpression.bind\u001b[1;34m(self, parameter_values)\u001b[0m\n\u001b[0;32m    117\u001b[0m     param_expr \u001b[38;5;241m=\u001b[39m \u001b[38;5;28mself\u001b[39m\u001b[38;5;241m.\u001b[39m_parameter_symbols[parameter]\n\u001b[0;32m    118\u001b[0m     symbol_values[param_expr] \u001b[38;5;241m=\u001b[39m value\n\u001b[1;32m--> 120\u001b[0m bound_symbol_expr \u001b[38;5;241m=\u001b[39m \u001b[38;5;28;43mself\u001b[39;49m\u001b[38;5;241;43m.\u001b[39;49m\u001b[43m_symbol_expr\u001b[49m\u001b[38;5;241;43m.\u001b[39;49m\u001b[43msubs\u001b[49m\u001b[43m(\u001b[49m\u001b[43msymbol_values\u001b[49m\u001b[43m)\u001b[49m\n\u001b[0;32m    122\u001b[0m \u001b[38;5;66;03m# Don't use sympy.free_symbols to count remaining parameters here.\u001b[39;00m\n\u001b[0;32m    123\u001b[0m \u001b[38;5;66;03m# sympy will in some cases reduce the expression and remove even\u001b[39;00m\n\u001b[0;32m    124\u001b[0m \u001b[38;5;66;03m# unbound symbols.\u001b[39;00m\n\u001b[0;32m    125\u001b[0m \u001b[38;5;66;03m# e.g. (sympy.Symbol('s') * 0).free_symbols == set()\u001b[39;00m\n\u001b[0;32m    127\u001b[0m free_parameters \u001b[38;5;241m=\u001b[39m \u001b[38;5;28mself\u001b[39m\u001b[38;5;241m.\u001b[39mparameters \u001b[38;5;241m-\u001b[39m parameter_values\u001b[38;5;241m.\u001b[39mkeys()\n",
      "File \u001b[1;32m~\\AppData\\Local\\Programs\\Python\\Python39\\lib\\site-packages\\sympy\\core\\basic.py:909\u001b[0m, in \u001b[0;36mBasic.subs\u001b[1;34m(self, *args, **kwargs)\u001b[0m\n\u001b[0;32m    907\u001b[0m         \u001b[38;5;28;01mcontinue\u001b[39;00m\n\u001b[0;32m    908\u001b[0m     \u001b[38;5;66;03m# skip if there is no change\u001b[39;00m\n\u001b[1;32m--> 909\u001b[0m     sequence[i] \u001b[38;5;241m=\u001b[39m \u001b[38;5;28;01mNone\u001b[39;00m \u001b[38;5;28;01mif\u001b[39;00m \u001b[43m_aresame\u001b[49m\u001b[43m(\u001b[49m\u001b[38;5;241;43m*\u001b[39;49m\u001b[43ms\u001b[49m\u001b[43m)\u001b[49m \u001b[38;5;28;01melse\u001b[39;00m \u001b[38;5;28mtuple\u001b[39m(s)\n\u001b[0;32m    910\u001b[0m sequence \u001b[38;5;241m=\u001b[39m \u001b[38;5;28mlist\u001b[39m(\u001b[38;5;28mfilter\u001b[39m(\u001b[38;5;28;01mNone\u001b[39;00m, sequence))\n\u001b[0;32m    912\u001b[0m \u001b[38;5;28;01mif\u001b[39;00m unordered:\n",
      "File \u001b[1;32m~\\AppData\\Local\\Programs\\Python\\Python39\\lib\\site-packages\\sympy\\core\\basic.py:1882\u001b[0m, in \u001b[0;36m_aresame\u001b[1;34m(a, b)\u001b[0m\n\u001b[0;32m   1858\u001b[0m \u001b[38;5;28;01mdef\u001b[39;00m \u001b[38;5;21m_aresame\u001b[39m(a, b):\n\u001b[0;32m   1859\u001b[0m     \u001b[38;5;124;03m\"\"\"Return True if a and b are structurally the same, else False.\u001b[39;00m\n\u001b[0;32m   1860\u001b[0m \n\u001b[0;32m   1861\u001b[0m \u001b[38;5;124;03m    Examples\u001b[39;00m\n\u001b[1;32m   (...)\u001b[0m\n\u001b[0;32m   1880\u001b[0m \n\u001b[0;32m   1881\u001b[0m \u001b[38;5;124;03m    \"\"\"\u001b[39;00m\n\u001b[1;32m-> 1882\u001b[0m     \u001b[38;5;28;01mfrom\u001b[39;00m \u001b[38;5;21;01m.\u001b[39;00m\u001b[38;5;21;01mnumbers\u001b[39;00m \u001b[38;5;28;01mimport\u001b[39;00m Number\n\u001b[0;32m   1883\u001b[0m     \u001b[38;5;28;01mfrom\u001b[39;00m \u001b[38;5;21;01m.\u001b[39;00m\u001b[38;5;21;01mfunction\u001b[39;00m \u001b[38;5;28;01mimport\u001b[39;00m AppliedUndef, UndefinedFunction \u001b[38;5;28;01mas\u001b[39;00m UndefFunc\n\u001b[0;32m   1884\u001b[0m     \u001b[38;5;28;01mif\u001b[39;00m \u001b[38;5;28misinstance\u001b[39m(a, Number) \u001b[38;5;129;01mand\u001b[39;00m \u001b[38;5;28misinstance\u001b[39m(b, Number):\n",
      "\u001b[1;31mKeyboardInterrupt\u001b[0m: "
     ]
    }
   ],
   "source": [
    "print(\"define backend\")\n",
    "quantum_instance = QuantumInstance(BasicAer.get_backend('qasm_simulator'), shots=1024,seed_simulator=seed, seed_transpiler=seed)\n",
    "print(\"define OpFlowQNN\")\n",
    "opflow_qnn = TwoLayerQNN(num_qubits = 2, quantum_instance=quantum_instance)\n",
    "print(\"define the callback function : did not build to be consider later on\")\n",
    "callback_graph = None\n",
    "print(\"define NN classifer\")\n",
    "opflow_classifer = NeuralNetworkClassifier(opflow_qnn,optimizer=COBYLA(),callback = callback_graph)\n",
    "print(\"define PCA for train\")\n",
    "pcatrain = PCA(n_components  =2)\n",
    "train_features = pcatrain.fit_transform(X_train)\n",
    "print(\"define PCA for test\")\n",
    "pcatest = PCA(n_components  =2)\n",
    "test_features = pcatest.fit_transform(X_valid)\n",
    "print(\"train the model\")\n",
    "opflow_classifer.fit(train_features,y_train.values)\n"
   ]
  },
  {
   "cell_type": "code",
   "execution_count": null,
   "id": "2b192a8c",
   "metadata": {},
   "outputs": [],
   "source": [
    "print(\"score on training set\")\n",
    "opflow_classifier.score(X_train,y_train)\n",
    "print(\"score on validation set\")\n",
    "opflow_classifier.score(X_test,y_test)"
   ]
  },
  {
   "cell_type": "markdown",
   "id": "d2474839",
   "metadata": {},
   "source": [
    "# QNN"
   ]
  },
  {
   "cell_type": "code",
   "execution_count": 127,
   "id": "c8e81a47",
   "metadata": {},
   "outputs": [
    {
     "data": {
      "text/plain": [
       "array([0, 0, 0, ..., 0, 0, 0])"
      ]
     },
     "execution_count": 127,
     "metadata": {},
     "output_type": "execute_result"
    }
   ],
   "source": [
    "print(\"contruct feature map\")\n",
    "feature_map = ZZFeatureMap(2)\n",
    "print(\"construct ansatz\")\n",
    "ansatz = RealAmplitudes(2,reps=1)\n",
    "print(\"cosntruct circuit\")\n",
    "qc = QuantumCircuit(2)\n",
    "qc.append(feature_map, range(2))\n",
    "qc.append(ansatz, range(2))\n",
    "qc.decompose().draw(output=\"mpl\")"
   ]
  },
  {
   "cell_type": "code",
   "execution_count": null,
   "id": "bfdb8f71",
   "metadata": {},
   "outputs": [],
   "source": [
    "#comment from the session :\n",
    "#better cleaning of the data : and then resampling\n",
    "# resampling the dataset : 200 transactions : 100/100\n",
    "# PCA increase : test 2, 3, 4, 5 \n",
    "#need to check the explanability "
   ]
  },
  {
   "cell_type": "code",
   "execution_count": 131,
   "id": "5ff480db",
   "metadata": {},
   "outputs": [
    {
     "name": "stdout",
     "output_type": "stream",
     "text": [
      "[9.99300425e-01 5.44551561e-04 1.41077626e-04 1.03462923e-05\n",
      " 1.12314824e-06]\n"
     ]
    }
   ],
   "source": [
    "pcatrain = PCA(n_components  =5)\n",
    "train_features = pcatrain.fit_transform(X_train)\n",
    "print(pcatrain.explained_variance_ratio_)"
   ]
  },
  {
   "cell_type": "code",
   "execution_count": null,
   "id": "7beec76b",
   "metadata": {},
   "outputs": [],
   "source": []
  }
 ],
 "metadata": {
  "kernelspec": {
   "display_name": "Python 3 (ipykernel)",
   "language": "python",
   "name": "python3"
  },
  "language_info": {
   "codemirror_mode": {
    "name": "ipython",
    "version": 3
   },
   "file_extension": ".py",
   "mimetype": "text/x-python",
   "name": "python",
   "nbconvert_exporter": "python",
   "pygments_lexer": "ipython3",
   "version": "3.9.13"
  }
 },
 "nbformat": 4,
 "nbformat_minor": 5
}
