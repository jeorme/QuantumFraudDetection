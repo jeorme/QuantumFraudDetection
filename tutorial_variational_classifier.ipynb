{
 "cells": [
  {
   "cell_type": "code",
   "execution_count": 1,
   "metadata": {},
   "outputs": [
    {
     "name": "stderr",
     "output_type": "stream",
     "text": [
      "C:\\Users\\jerom\\AppData\\Local\\Programs\\Python\\Python39\\lib\\site-packages\\numpy\\_distributor_init.py:30: UserWarning: loaded more than 1 DLL from .libs:\n",
      "C:\\Users\\jerom\\AppData\\Local\\Programs\\Python\\Python39\\lib\\site-packages\\numpy\\.libs\\libopenblas.FB5AE2TYXYH2IJRDKGDGQ3XBKLKTF43H.gfortran-win_amd64.dll\n",
      "C:\\Users\\jerom\\AppData\\Local\\Programs\\Python\\Python39\\lib\\site-packages\\numpy\\.libs\\libopenblas.WCDJNK7YVMPZQ2ME2ZZHJJRJ3JIKNDB7.gfortran-win_amd64.dll\n",
      "  warnings.warn(\"loaded more than 1 DLL from .libs:\"\n"
     ]
    }
   ],
   "source": [
    "# This cell is added by sphinx-gallery\n",
    "# It can be customized to whatever you like\n",
    "%matplotlib inline"
   ]
  },
  {
   "cell_type": "markdown",
   "metadata": {},
   "source": [
    "Variational classifier {#variational_classifier}\n",
    "======================\n",
    "\n",
    "::: {.meta}\n",
    ":property=\\\"og:description\\\": Using PennyLane to implement quantum\n",
    "circuits that can be trained from labelled data to classify new data\n",
    "samples. :property=\\\"og:image\\\":\n",
    "<https://pennylane.ai/qml/_images/classifier_output_59_0.png>\n",
    ":::\n",
    "\n",
    "::: {.related}\n",
    "tutorial\\_data\\_reuploading\\_classifier Data-reuploading classifier\n",
    "tutorial\\_multiclass\\_classification Multiclass margin classifier\n",
    "tutorial\\_ensemble\\_multi\\_qpu Ensemble classification\n",
    ":::\n",
    "\n",
    "*Author: PennyLane dev team. Last updated: 19 Jan 2021.*\n",
    "\n",
    "In this tutorial, we show how to use PennyLane to implement variational\n",
    "quantum classifiers - quantum circuits that can be trained from labelled\n",
    "data to classify new data samples. The architecture is inspired by\n",
    "[Farhi and Neven (2018)](https://arxiv.org/abs/1802.06002) as well as\n",
    "[Schuld et al. (2018)](https://arxiv.org/abs/1804.00633).\n"
   ]
  },
  {
   "cell_type": "markdown",
   "metadata": {},
   "source": [
    "We will first show that the variational quantum classifier can reproduce\n",
    "the parity function\n",
    "\n",
    "$$\\begin{aligned}\n",
    "f: x \\in \\{0,1\\}^{\\otimes n} \\rightarrow y =\n",
    "\\begin{cases} 1 \\text{  if uneven number of ones in } x \\\\ 0\n",
    "\\text{ otherwise} \\end{cases}.\n",
    "\\end{aligned}$$\n",
    "\n",
    "This optimization example demonstrates how to encode binary inputs into\n",
    "the initial state of the variational circuit, which is simply a\n",
    "computational basis state.\n",
    "\n",
    "We then show how to encode real vectors as amplitude vectors (*amplitude\n",
    "encoding*) and train the model to recognize the first two classes of\n",
    "flowers in the Iris dataset.\n",
    "\n",
    "1. Fitting the parity function\n",
    "==============================\n",
    "\n",
    "Imports\n",
    "-------\n",
    "\n",
    "As before, we import PennyLane, the PennyLane-provided version of NumPy,\n",
    "and an optimizer.\n"
   ]
  },
  {
   "cell_type": "markdown",
   "metadata": {},
   "source": [
    "Quantum and classical nodes\n",
    "===========================\n",
    "\n",
    "We create a quantum device with four \"wires\" (or qubits).\n"
   ]
  },
  {
   "cell_type": "markdown",
   "metadata": {},
   "source": [
    "Variational classifiers usually define a \"layer\" or \"block\", which is an\n",
    "elementary circuit architecture that gets repeated to build the\n",
    "variational circuit.\n",
    "\n",
    "Our circuit layer consists of an arbitrary rotation on every qubit, as\n",
    "well as CNOTs that entangle each qubit with its neighbour.\n"
   ]
  },
  {
   "cell_type": "markdown",
   "metadata": {},
   "source": [
    "We also need a way to encode data inputs $x$ into the circuit, so that\n",
    "the measured output depends on the inputs. In this first example, the\n",
    "inputs are bitstrings, which we encode into the state of the qubits. The\n",
    "quantum state $\\psi$ after state preparation is a computational basis\n",
    "state that has 1s where $x$ has 1s, for example\n",
    "\n",
    "$$x = 0101 \\rightarrow |\\psi \\rangle = |0101 \\rangle .$$\n",
    "\n",
    "We use the `~pennylane.BasisState`{.interpreted-text role=\"class\"}\n",
    "function provided by PennyLane, which expects `x` to be a list of zeros\n",
    "and ones, i.e. `[0,1,0,1]`.\n"
   ]
  },
  {
   "cell_type": "markdown",
   "metadata": {},
   "source": [
    "Now we define the quantum node as a state preparation routine, followed\n",
    "by a repetition of the layer structure. Borrowing from machine learning,\n",
    "we call the parameters `weights`.\n"
   ]
  },
  {
   "cell_type": "markdown",
   "metadata": {},
   "source": [
    "Different from previous examples, the quantum node takes the data as a\n",
    "keyword argument `x` (with the default value `None`). Keyword arguments\n",
    "of a quantum node are considered as fixed when calculating a gradient;\n",
    "they are never trained.\n",
    "\n",
    "If we want to add a \"classical\" bias parameter, the variational quantum\n",
    "classifier also needs some post-processing. We define the final model by\n",
    "a classical node that uses the first variable, and feeds the remainder\n",
    "into the quantum node. Before this, we reshape the list of remaining\n",
    "variables for easy use in the quantum node.\n"
   ]
  },
  {
   "cell_type": "markdown",
   "metadata": {},
   "source": [
    "Cost\n",
    "====\n",
    "\n",
    "In supervised learning, the cost function is usually the sum of a loss\n",
    "function and a regularizer. We use the standard square loss that\n",
    "measures the distance between target labels and model predictions.\n"
   ]
  },
  {
   "cell_type": "markdown",
   "metadata": {},
   "source": [
    "To monitor how many inputs the current classifier predicted correctly,\n",
    "we also define the accuracy given target labels and model predictions.\n"
   ]
  },
  {
   "cell_type": "markdown",
   "metadata": {},
   "source": [
    "For learning tasks, the cost depends on the data - here the features and\n",
    "labels considered in the iteration of the optimization routine.\n"
   ]
  },
  {
   "cell_type": "markdown",
   "metadata": {},
   "source": [
    "Optimization\n",
    "============\n",
    "\n",
    "Let's now load and preprocess some data.\n",
    "\n",
    "::: {.note}\n",
    "::: {.admonition-title}\n",
    "Note\n",
    ":::\n",
    "\n",
    "The parity dataset can be downloaded\n",
    "`<a href=\"https://raw.githubusercontent.com/XanaduAI/qml/master/demonstrations/variational_classifier/data/parity.txt\"\n",
    "download=parity.txt target=\"_blank\">here</a>`{.interpreted-text\n",
    "role=\"html\"} and should be placed in the subfolder\n",
    "`variational_classifier/data`.\n",
    ":::\n"
   ]
  },
  {
   "cell_type": "markdown",
   "metadata": {},
   "source": [
    "We initialize the variables randomly (but fix a seed for\n",
    "reproducibility). The first variable in the list is used as a bias,\n",
    "while the rest is fed into the gates of the variational circuit.\n"
   ]
  },
  {
   "cell_type": "markdown",
   "metadata": {},
   "source": [
    "Next we create an optimizer and choose a batch size...\n"
   ]
  },
  {
   "cell_type": "markdown",
   "metadata": {},
   "source": [
    "...and train the optimizer. We track the accuracy - the share of\n",
    "correctly classified data samples. For this we compute the outputs of\n",
    "the variational classifier and turn them into predictions in $\\{-1,1\\}$\n",
    "by taking the sign of the output.\n"
   ]
  },
  {
   "cell_type": "markdown",
   "metadata": {},
   "source": [
    "2. Iris classification\n",
    "======================\n",
    "\n",
    "Quantum and classical nodes\n",
    "---------------------------\n",
    "\n",
    "To encode real-valued vectors into the amplitudes of a quantum state, we\n",
    "use a 2-qubit simulator.\n"
   ]
  },
  {
   "cell_type": "markdown",
   "metadata": {},
   "source": [
    "State preparation is not as simple as when we represent a bitstring with\n",
    "a basis state. Every input x has to be translated into a set of angles\n",
    "which can get fed into a small routine for state preparation. To\n",
    "simplify things a bit, we will work with data from the positive\n",
    "subspace, so that we can ignore signs (which would require another\n",
    "cascade of rotations around the z axis).\n",
    "\n",
    "The circuit is coded according to the scheme in [Möttönen, et al.\n",
    "(2004)](https://arxiv.org/abs/quant-ph/0407010), or---as presented for\n",
    "positive vectors only---in [Schuld and Petruccione\n",
    "(2018)](https://link.springer.com/book/10.1007/978-3-319-96424-9). We\n",
    "had to also decompose controlled Y-axis rotations into more basic\n",
    "circuits following [Nielsen and Chuang\n",
    "(2010)](http://www.michaelnielsen.org/qcqi/).\n"
   ]
  },
  {
   "cell_type": "markdown",
   "metadata": {},
   "source": [
    "Let's test if this routine actually works.\n"
   ]
  },
  {
   "cell_type": "markdown",
   "metadata": {},
   "source": [
    "Note that the `default.qubit` simulator provides a shortcut to\n",
    "`statepreparation` with the command\n",
    "`qml.QubitStateVector(x, wires=[0, 1])`. However, some devices may not\n",
    "support an arbitrary state-preparation routine.\n",
    "\n",
    "Since we are working with only 2 qubits now, we need to update the layer\n",
    "function as well.\n"
   ]
  },
  {
   "cell_type": "markdown",
   "metadata": {},
   "source": [
    "The variational classifier model and its cost remain essentially the\n",
    "same, but we have to reload them with the new state preparation and\n",
    "layer functions.\n"
   ]
  },
  {
   "cell_type": "markdown",
   "metadata": {},
   "source": [
    "Data\n",
    "====\n",
    "\n",
    "We then load the Iris data set. There is a bit of preprocessing to do in\n",
    "order to encode the inputs into the amplitudes of a quantum state. In\n",
    "the last preprocessing step, we translate the inputs x to rotation\n",
    "angles using the `get_angles` function we defined above.\n",
    "\n",
    "::: {.note}\n",
    "::: {.admonition-title}\n",
    "Note\n",
    ":::\n",
    "\n",
    "The Iris dataset can be downloaded\n",
    "`<a href=\"https://raw.githubusercontent.com/XanaduAI/qml/master/demonstrations/variational_classifier/data/iris_classes1and2_scaled.txt\"\n",
    "download=parity.txt target=\"_blank\">here</a>`{.interpreted-text\n",
    "role=\"html\"} and should be placed in the subfolder\n",
    "`variational_classifer/data`.\n",
    ":::\n"
   ]
  },
  {
   "cell_type": "code",
   "execution_count": 2,
   "metadata": {},
   "outputs": [],
   "source": [
    "# pad the vectors to size 2^2 with constant values\n",
    "\n",
    "\n",
    "\n",
    "\n",
    "# normalize each input\n",
    "\n",
    "\n",
    "\n",
    "\n",
    "# angles for state preparation are new features"
   ]
  },
  {
   "cell_type": "markdown",
   "metadata": {},
   "source": [
    "These angles are our new features, which is why we have renamed X to\n",
    "\"features\" above. Let's plot the stages of preprocessing and play around\n",
    "with the dimensions (dim1, dim2). Some of them still separate the\n",
    "classes well, while others are less informative.\n",
    "\n",
    "*Note: To run the following code you need the matplotlib library.*\n"
   ]
  },
  {
   "cell_type": "markdown",
   "metadata": {},
   "source": [
    "This time we want to generalize from the data samples. To monitor the\n",
    "generalization performance, the data is split into training and\n",
    "validation set.\n"
   ]
  },
  {
   "cell_type": "code",
   "execution_count": 3,
   "metadata": {},
   "outputs": [],
   "source": [
    "# We need these later for plotting"
   ]
  },
  {
   "cell_type": "markdown",
   "metadata": {},
   "source": [
    "Optimization\n",
    "============\n",
    "\n",
    "First we initialize the variables.\n"
   ]
  },
  {
   "cell_type": "markdown",
   "metadata": {},
   "source": [
    "Again we optimize the cost. This may take a little patience.\n"
   ]
  },
  {
   "cell_type": "code",
   "execution_count": null,
   "metadata": {},
   "outputs": [],
   "source": [
    "# train the variational classifier"
   ]
  },
  {
   "cell_type": "markdown",
   "metadata": {},
   "source": [
    "We can plot the continuous output of the variational classifier for the\n",
    "first two dimensions of the Iris data set.\n"
   ]
  },
  {
   "cell_type": "code",
   "execution_count": null,
   "metadata": {},
   "outputs": [],
   "source": [
    "# make data for decision regions\n",
    "\n",
    "\n",
    "\n",
    "# preprocess grid points like data inputs above\n",
    "\n",
    "\n",
    "\n",
    "\n",
    "\n",
    "\n",
    "\n",
    "\n",
    "\n",
    "\n",
    "# plot decision regions\n",
    "\n",
    "\n",
    "\n",
    "\n",
    "\n",
    "\n",
    "\n",
    "\n",
    "# plot data"
   ]
  }
 ],
 "metadata": {
  "kernelspec": {
   "display_name": "Python 3 (ipykernel)",
   "language": "python",
   "name": "python3"
  },
  "language_info": {
   "codemirror_mode": {
    "name": "ipython",
    "version": 3
   },
   "file_extension": ".py",
   "mimetype": "text/x-python",
   "name": "python",
   "nbconvert_exporter": "python",
   "pygments_lexer": "ipython3",
   "version": "3.9.13"
  }
 },
 "nbformat": 4,
 "nbformat_minor": 1
}
